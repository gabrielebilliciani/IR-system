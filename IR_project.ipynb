{
  "cells": [
    {
      "cell_type": "markdown",
      "metadata": {
        "colab_type": "text",
        "id": "view-in-github"
      },
      "source": [
        "<a href=\"https://colab.research.google.com/github/gabrielebilliciani/IR-system/blob/main/IR_project.ipynb\" target=\"_parent\"><img src=\"https://colab.research.google.com/assets/colab-badge.svg\" alt=\"Open In Colab\"/></a>"
      ]
    },
    {
      "cell_type": "markdown",
      "id": "94df6e25",
      "metadata": {
        "id": "94df6e25",
        "papermill": {
          "duration": 0.027721,
          "end_time": "2025-08-27T15:41:45.778479",
          "exception": false,
          "start_time": "2025-08-27T15:41:45.750758",
          "status": "completed"
        },
        "tags": []
      },
      "source": [
        "# Information Retrieval System\n",
        "\n",
        "**Group Name:** The Shining\n",
        "\n",
        "**Students:** Tsegay Gebrelibanos, Gabriele Giudici, Gabriele Billi Ciani\n",
        "\n",
        "**MSc. Artificial Intelligence and Data Engineering**\\\n",
        "**University of Pisa**\\\n",
        "**Course:** Multimedia Information Retrieval and Computer Vision"
      ]
    },
    {
      "cell_type": "markdown",
      "id": "4517fa0e",
      "metadata": {
        "id": "4517fa0e",
        "papermill": {
          "duration": 0.02411,
          "end_time": "2025-08-27T15:41:45.828442",
          "exception": false,
          "start_time": "2025-08-27T15:41:45.804332",
          "status": "completed"
        },
        "tags": []
      },
      "source": [
        "This notebook presents a comprehensive Information Retrieval (IR) system built from the ground up for the MSMARCO passage ranking dataset. The project covers the entire IR pipeline, starting with text preprocessing and the construction of an efficient inverted index, through to query processing algorithms and a comparative evaluation of the system's performance."
      ]
    },
    {
      "cell_type": "markdown",
      "id": "e4d5af4b",
      "metadata": {},
      "source": [
        "# Table of Contents\n",
        "\n",
        "*   **1. Environment Setup**\n",
        "*   **2. Collection Loading and Preprocessing**\n",
        "    *   2.1. The MS MARCO Passage Collection\n",
        "    *   2.2. Text Processing and Indexing\n",
        "        *   2.2.1. Text Pre-processing Pipeline\n",
        "        *   2.2.2. The Inverted Index\n",
        "*   **3. Ranked Retrieval & Query Processing**\n",
        "    *   3.1. Scoring Functions\n",
        "    *   3.2. The Inverted Index Class\n",
        "    *   3.3. Top-k Retrieval\n",
        "    *   3.4. Query Processing\n",
        "        *   3.4.1. DAAT Implementation\n",
        "*   **4. Experiments and Evaluation**\n",
        "    *   4.1. Test Collection and Metrics\n",
        "        *   4.1.1. The TREC DL 2020 Test Collection\n",
        "        *   4.1.2. Evaluation Metrics\n",
        "    *   4.2. Evaluation Methodology\n",
        "    *   4.3. Evaluating Our Custom System\n",
        "    *   4.4. Establishing a Baseline with PyTerrier\n",
        "    *   4.5. Comparative Evaluation\n",
        "    *   4.6. Statistical Significance Testing\n",
        "*   **5. Conclusion**"
      ]
    },
    {
      "cell_type": "markdown",
      "id": "96e6ee73",
      "metadata": {
        "id": "96e6ee73",
        "papermill": {
          "duration": 0.023414,
          "end_time": "2025-08-27T15:41:45.876390",
          "exception": false,
          "start_time": "2025-08-27T15:41:45.852976",
          "status": "completed"
        },
        "tags": []
      },
      "source": [
        "# 1. Environment Setup"
      ]
    },
    {
      "cell_type": "markdown",
      "id": "c0cecbc3",
      "metadata": {
        "id": "c0cecbc3",
        "papermill": {
          "duration": 0.023185,
          "end_time": "2025-08-27T15:41:45.923063",
          "exception": false,
          "start_time": "2025-08-27T15:41:45.899878",
          "status": "completed"
        },
        "tags": []
      },
      "source": [
        "**Library Installation and Imports**"
      ]
    },
    {
      "cell_type": "code",
      "execution_count": null,
      "id": "66e32a0c",
      "metadata": {
        "execution": {
          "iopub.execute_input": "2025-08-27T15:41:45.972525Z",
          "iopub.status.busy": "2025-08-27T15:41:45.972240Z",
          "iopub.status.idle": "2025-08-27T15:42:18.101049Z",
          "shell.execute_reply": "2025-08-27T15:42:18.099918Z"
        },
        "id": "66e32a0c",
        "outputId": "3d27a2d9-3748-443a-ddc6-532d0f67ff5a",
        "papermill": {
          "duration": 32.156158,
          "end_time": "2025-08-27T15:42:18.102563",
          "exception": false,
          "start_time": "2025-08-27T15:41:45.946405",
          "status": "completed"
        },
        "tags": []
      },
      "outputs": [
        {
          "name": "stdout",
          "output_type": "stream",
          "text": [
            "Installing ir_datasets...\n",
            "  Preparing metadata (setup.py) ... \u001b[?25l\u001b[?25hdone\r\n",
            "  Preparing metadata (setup.py) ... \u001b[?25l\u001b[?25hdone\r\n",
            "\u001b[2K   \u001b[90m━━━━━━━━━━━━━━━━━━━━━━━━━━━━━━━━━━━━━━━━\u001b[0m \u001b[32m866.1/866.1 kB\u001b[0m \u001b[31m14.5 MB/s\u001b[0m eta \u001b[36m0:00:00\u001b[0m\r\n",
            "\u001b[2K   \u001b[90m━━━━━━━━━━━━━━━━━━━━━━━━━━━━━━━━━━━━━━━━\u001b[0m \u001b[32m135.0/135.0 kB\u001b[0m \u001b[31m7.3 MB/s\u001b[0m eta \u001b[36m0:00:00\u001b[0m\r\n",
            "\u001b[2K   \u001b[90m━━━━━━━━━━━━━━━━━━━━━━━━━━━━━━━━━━━━━━━━\u001b[0m \u001b[32m45.1/45.1 kB\u001b[0m \u001b[31m2.4 MB/s\u001b[0m eta \u001b[36m0:00:00\u001b[0m\r\n",
            "\u001b[2K   \u001b[90m━━━━━━━━━━━━━━━━━━━━━━━━━━━━━━━━━━━━━━━━\u001b[0m \u001b[32m1.3/1.3 MB\u001b[0m \u001b[31m43.1 MB/s\u001b[0m eta \u001b[36m0:00:00\u001b[0m\r\n",
            "\u001b[?25h  Building wheel for warc3-wet-clueweb09 (setup.py) ... \u001b[?25l\u001b[?25hdone\r\n",
            "  Building wheel for cbor (setup.py) ... \u001b[?25l\u001b[?25hdone\r\n",
            "Installing ir_measures...\n",
            "\u001b[2K   \u001b[90m━━━━━━━━━━━━━━━━━━━━━━━━━━━━━━━━━━━━━━━━\u001b[0m \u001b[32m61.1/61.1 kB\u001b[0m \u001b[31m1.8 MB/s\u001b[0m eta \u001b[36m0:00:00\u001b[0m\r\n",
            "\u001b[2K   \u001b[90m━━━━━━━━━━━━━━━━━━━━━━━━━━━━━━━━━━━━━━━━\u001b[0m \u001b[32m302.8/302.8 kB\u001b[0m \u001b[31m9.0 MB/s\u001b[0m eta \u001b[36m0:00:00\u001b[0m\r\n",
            "\u001b[?25hInstalling PyStemmer...\n",
            "\u001b[2K   \u001b[90m━━━━━━━━━━━━━━━━━━━━━━━━━━━━━━━━━━━━━━━━\u001b[0m \u001b[32m731.9/731.9 kB\u001b[0m \u001b[31m10.9 MB/s\u001b[0m eta \u001b[36m0:00:00\u001b[0m\r\n",
            "\u001b[?25hnltk already available\n",
            "gdown already available\n",
            "numpy already available\n",
            "polars already available\n",
            "pandas already available\n",
            "matplotlib already available\n",
            "seaborn already available\n",
            "Installing python-terrier...\n",
            "  Preparing metadata (setup.py) ... \u001b[?25l\u001b[?25hdone\r\n",
            "\u001b[2K   \u001b[90m━━━━━━━━━━━━━━━━━━━━━━━━━━━━━━━━━━━━━━━━\u001b[0m \u001b[32m167.5/167.5 kB\u001b[0m \u001b[31m3.9 MB/s\u001b[0m eta \u001b[36m0:00:00\u001b[0m\r\n",
            "\u001b[2K   \u001b[90m━━━━━━━━━━━━━━━━━━━━━━━━━━━━━━━━━━━━━━━━\u001b[0m \u001b[32m1.6/1.6 MB\u001b[0m \u001b[31m27.7 MB/s\u001b[0m eta \u001b[36m0:00:00\u001b[0m\r\n",
            "\u001b[?25h  Building wheel for chest (setup.py) ... \u001b[?25l\u001b[?25hdone\r\n",
            "scipy already available\n",
            "tqdm already available\n",
            "\n",
            "Verifying all imports...\n",
            "All imports successful!\n",
            "NumPy version: 1.26.4\n",
            "Pandas version: 2.2.3\n",
            "PyTerrier version: 0.13.1\n"
          ]
        }
      ],
      "source": [
        "# Install missing packages for IR project\n",
        "packages_to_check = {\n",
        "    'ir_datasets': 'ir_datasets',\n",
        "    'ir_measures': 'ir_measures',\n",
        "    'Stemmer': 'PyStemmer',\n",
        "    'nltk': 'nltk',\n",
        "    'gdown': 'gdown',\n",
        "    'numpy': 'numpy',\n",
        "    'polars': 'polars',\n",
        "    'pandas': 'pandas',\n",
        "    'matplotlib': 'matplotlib',\n",
        "    'seaborn': 'seaborn',\n",
        "    'pyterrier': 'python-terrier',\n",
        "    'scipy': 'scipy',\n",
        "    'tqdm': 'tqdm'\n",
        "}\n",
        "\n",
        "for package_name, pip_name in packages_to_check.items():\n",
        "    try:\n",
        "        if package_name == 'matplotlib':\n",
        "            import matplotlib.pyplot as plt  # Test specific import\n",
        "        elif package_name == 'scipy':\n",
        "            from scipy import stats  # Test specific import\n",
        "        elif package_name == 'ir_measures':\n",
        "            from ir_measures import P, nDCG, AP, RR, Bpref, Judged, Recall  # Test specific imports\n",
        "        else:\n",
        "            __import__(package_name)\n",
        "        print(f\"{package_name} already available\")\n",
        "    except ImportError:\n",
        "        print(f\"Installing {pip_name}...\")\n",
        "        !pip install -q {pip_name}\n",
        "\n",
        "# Verify all imports work\n",
        "print(\"\\nVerifying all imports...\")\n",
        "try:\n",
        "    import ir_datasets\n",
        "    import ir_measures\n",
        "    from ir_measures import P, nDCG, AP, RR, Bpref, Judged, Recall\n",
        "    import re\n",
        "    import Stemmer\n",
        "    import nltk\n",
        "    import gdown\n",
        "    import numpy as np\n",
        "    import polars as pl\n",
        "    import pandas as pd\n",
        "    import matplotlib.pyplot as plt\n",
        "    import seaborn as sns\n",
        "    import pyterrier as pt\n",
        "    import gc\n",
        "    import time\n",
        "    import heapq\n",
        "    from functools import lru_cache\n",
        "    from datetime import datetime\n",
        "    from tqdm.auto import tqdm\n",
        "    from scipy import stats as st\n",
        "    from collections import defaultdict, Counter\n",
        "    import math\n",
        "    import os\n",
        "    import pickle\n",
        "\n",
        "    print(\"All imports successful!\")\n",
        "\n",
        "    # Show package versions for key libraries\n",
        "    print(f\"NumPy version: {np.__version__}\")\n",
        "    print(f\"Pandas version: {pd.__version__}\")\n",
        "    print(f\"PyTerrier version: {pt.__version__}\")\n",
        "\n",
        "except ImportError as e:\n",
        "    print(f\"Import error: {e}\")"
      ]
    },
    {
      "cell_type": "code",
      "execution_count": null,
      "id": "9c0661c2",
      "metadata": {
        "execution": {
          "iopub.execute_input": "2025-08-27T15:42:18.217899Z",
          "iopub.status.busy": "2025-08-27T15:42:18.217166Z",
          "iopub.status.idle": "2025-08-27T15:42:18.223016Z",
          "shell.execute_reply": "2025-08-27T15:42:18.222198Z"
        },
        "id": "9c0661c2",
        "papermill": {
          "duration": 0.033194,
          "end_time": "2025-08-27T15:42:18.224334",
          "exception": false,
          "start_time": "2025-08-27T15:42:18.191140",
          "status": "completed"
        },
        "tags": []
      },
      "outputs": [],
      "source": [
        "# Profiling decorator\n",
        "# This decorator is used to measure the execution time of a function\n",
        "# This can be used to profile any function by simply adding @profile above the function definition\n",
        "def profile(f):\n",
        "    def f_timer(*args, **kwargs):\n",
        "        start = time.time()\n",
        "        result = f(*args, **kwargs)\n",
        "        end = time.time()\n",
        "        ms = (end - start) * 1000\n",
        "        print(f\"{f.__name__} ({ms:.3f} ms)\")\n",
        "        return result\n",
        "    return f_timer"
      ]
    },
    {
      "cell_type": "markdown",
      "id": "d29c501b",
      "metadata": {
        "id": "d29c501b",
        "papermill": {
          "duration": 0.024899,
          "end_time": "2025-08-27T15:42:18.274593",
          "exception": false,
          "start_time": "2025-08-27T15:42:18.249694",
          "status": "completed"
        },
        "tags": []
      },
      "source": [
        "# 2. Collection Loading and Preprocessing"
      ]
    },
    {
      "cell_type": "markdown",
      "id": "19c8aaec",
      "metadata": {
        "id": "19c8aaec",
        "papermill": {
          "duration": 0.024992,
          "end_time": "2025-08-27T15:42:18.324789",
          "exception": false,
          "start_time": "2025-08-27T15:42:18.299797",
          "status": "completed"
        },
        "tags": []
      },
      "source": [
        "## 2.1. The MS MARCO Passage Collection\n",
        "\n",
        "The foundation of our Information Retrieval system is the document collection it searches. For this project, we use the full **MS MARCO (MAchine Reading COmprehension) passage collection**, a large-scale, real-world dataset that has become a standard benchmark for passage ranking tasks.\n",
        "\n",
        "The creation process began with over one million real, anonymised queries submitted by users to the Bing search engine. Using these queries, Microsoft retrieved 3.56 million web documents. From this vast set of documents, a specialised system then extracted the 8.84 million passages that form our collection. As the original paper states, this scale and real-world origin distinguishes MS MARCO from many other datasets.\n",
        "\n",
        "*Source: Bajaj, P., et al. (2018). MS MARCO: A Human Generated MAchine Reading Comprehension Dataset. arXiv:1611.09268v3. Link: https://arxiv.org/pdf/1611.09268*"
      ]
    },
    {
      "cell_type": "markdown",
      "id": "8c34aea2",
      "metadata": {
        "id": "8c34aea2",
        "papermill": {
          "duration": 0.024778,
          "end_time": "2025-08-27T15:42:18.374707",
          "exception": false,
          "start_time": "2025-08-27T15:42:18.349929",
          "status": "completed"
        },
        "tags": []
      },
      "source": [
        "To streamline the setup and avoid a lengthy on-the-fly decompression, we download a pre-uncompressed version of the collection.\n",
        "\n",
        "The data is provided as a Tab-Separated Values (TSV) file without a header. We use `Polars`, a high-performance DataFrame library, to load the data efficiently. During the loading process, we define the schema by naming the columns `doc_id` and `text`. A crucial first step in data cleaning is also performed: we filter out any passages that are empty or null to ensure the integrity of the data before it enters the indexing pipeline."
      ]
    },
    {
      "cell_type": "code",
      "execution_count": null,
      "id": "75071f77",
      "metadata": {
        "execution": {
          "iopub.execute_input": "2025-08-27T15:42:18.426186Z",
          "iopub.status.busy": "2025-08-27T15:42:18.425884Z",
          "iopub.status.idle": "2025-08-27T15:42:52.091952Z",
          "shell.execute_reply": "2025-08-27T15:42:52.091111Z"
        },
        "id": "75071f77",
        "outputId": "a00423bc-4ab3-400b-e89b-c52addea139f",
        "papermill": {
          "duration": 33.693583,
          "end_time": "2025-08-27T15:42:52.093324",
          "exception": false,
          "start_time": "2025-08-27T15:42:18.399741",
          "status": "completed"
        },
        "tags": []
      },
      "outputs": [
        {
          "name": "stdout",
          "output_type": "stream",
          "text": [
            "Downloading collection.tsv...\n"
          ]
        },
        {
          "name": "stderr",
          "output_type": "stream",
          "text": [
            "Downloading...\n",
            "From (original): https://drive.google.com/uc?id=1cn5PgI-TS2gvYsqmT1YDEVBjGvZ2-sSW\n",
            "From (redirected): https://drive.google.com/uc?id=1cn5PgI-TS2gvYsqmT1YDEVBjGvZ2-sSW&confirm=t&uuid=6f37603a-4159-4af9-b543-06c5fe74c1db\n",
            "To: /kaggle/working/collection.tsv\n",
            "100%|██████████| 3.05G/3.05G [00:28<00:00, 106MB/s]\n"
          ]
        },
        {
          "name": "stdout",
          "output_type": "stream",
          "text": [
            "Loaded 8,841,823 documents into a Polars DataFrame.\n"
          ]
        },
        {
          "data": {
            "text/html": [
              "<div><style>\n",
              ".dataframe > thead > tr,\n",
              ".dataframe > tbody > tr {\n",
              "  text-align: right;\n",
              "  white-space: pre-wrap;\n",
              "}\n",
              "</style>\n",
              "<small>shape: (5, 2)</small><table border=\"1\" class=\"dataframe\"><thead><tr><th>doc_id</th><th>text</th></tr><tr><td>i64</td><td>str</td></tr></thead><tbody><tr><td>0</td><td>&quot;The presence of communication …</td></tr><tr><td>1</td><td>&quot;The Manhattan Project and its …</td></tr><tr><td>2</td><td>&quot;Essay on The Manhattan Project…</td></tr><tr><td>3</td><td>&quot;The Manhattan Project was the …</td></tr><tr><td>4</td><td>&quot;versions of each volume as wel…</td></tr></tbody></table></div>"
            ],
            "text/plain": [
              "shape: (5, 2)\n",
              "┌────────┬─────────────────────────────────┐\n",
              "│ doc_id ┆ text                            │\n",
              "│ ---    ┆ ---                             │\n",
              "│ i64    ┆ str                             │\n",
              "╞════════╪═════════════════════════════════╡\n",
              "│ 0      ┆ The presence of communication … │\n",
              "│ 1      ┆ The Manhattan Project and its … │\n",
              "│ 2      ┆ Essay on The Manhattan Project… │\n",
              "│ 3      ┆ The Manhattan Project was the … │\n",
              "│ 4      ┆ versions of each volume as wel… │\n",
              "└────────┴─────────────────────────────────┘"
            ]
          },
          "execution_count": 3,
          "metadata": {},
          "output_type": "execute_result"
        }
      ],
      "source": [
        "# Download the collection from Google Drive if not already present\n",
        "if not os.path.exists(\"collection.tsv\"):\n",
        "    print(\"Downloading collection.tsv...\")\n",
        "    gdown.download(\n",
        "        url='https://drive.google.com/file/d/1cn5PgI-TS2gvYsqmT1YDEVBjGvZ2-sSW/view?usp=sharing',\n",
        "        output=\"collection.tsv\", fuzzy=True, quiet=False\n",
        "    )\n",
        "else:\n",
        "    print(\"collection.tsv already exists.\")\n",
        "\n",
        "\n",
        "# Polars is used here for its speed and memory efficiency with large files.\n",
        "# The lazy evaluation API (`scan_csv`) reads the file without loading it all into memory at once.\n",
        "df = (\n",
        "    pl.scan_csv(\n",
        "        \"collection.tsv\",\n",
        "        separator=\"\\t\",\n",
        "        has_header=False\n",
        "    )\n",
        "    .rename({\"column_1\": \"doc_id\", \"column_2\": \"text\"})\n",
        "    .filter(pl.col(\"text\").is_not_null())\n",
        "    .filter(pl.col(\"text\").str.strip_chars().str.len_chars() > 0)\n",
        "    .collect()\n",
        ")\n",
        "\n",
        "print(f\"Loaded {df.height:,} documents into a Polars DataFrame.\")\n",
        "df.head()"
      ]
    },
    {
      "cell_type": "markdown",
      "id": "a559761d",
      "metadata": {
        "id": "a559761d",
        "papermill": {
          "duration": 0.034646,
          "end_time": "2025-08-27T15:42:52.162755",
          "exception": false,
          "start_time": "2025-08-27T15:42:52.128109",
          "status": "completed"
        },
        "tags": []
      },
      "source": [
        "Let's take a look at a couple of example passages:"
      ]
    },
    {
      "cell_type": "code",
      "execution_count": null,
      "id": "4edf3d79",
      "metadata": {
        "execution": {
          "iopub.execute_input": "2025-08-27T15:42:52.233350Z",
          "iopub.status.busy": "2025-08-27T15:42:52.233059Z",
          "iopub.status.idle": "2025-08-27T15:42:55.308090Z",
          "shell.execute_reply": "2025-08-27T15:42:55.307156Z"
        },
        "id": "4edf3d79",
        "outputId": "507a38ad-7685-4700-a40a-d81a0934104a",
        "papermill": {
          "duration": 3.112618,
          "end_time": "2025-08-27T15:42:55.309628",
          "exception": false,
          "start_time": "2025-08-27T15:42:52.197010",
          "status": "completed"
        },
        "tags": []
      },
      "outputs": [
        {
          "name": "stdout",
          "output_type": "stream",
          "text": [
            "--- Passage 1 (doc_id: 6441778) ---\n",
            "We may suppose that only one (F), of the two species which were least closely related to the other nine original species, has transmitted descendants to this late stage of descent. Thus it is, as I believe, that two or more genera are produced by descent, with modification, from two or more species of the same genus.\n",
            "\n",
            "================================================================================\n",
            "\n",
            "--- Passage 2 (doc_id: 4768111) ---\n",
            "Townshend Acts. The Townshend Acts were a series of British acts passed beginning in 1767 and relating to the British American colonies in North America. The acts are named after Charles Townshend, the Chancellor of the Exchequer, who proposed the program.\n",
            "\n",
            "================================================================================\n",
            "\n"
          ]
        }
      ],
      "source": [
        "# Display a couple of example passages\n",
        "# We use a fixed seed for reproducibility\n",
        "for i, row in enumerate(df.sample(2, seed=42).iter_rows(named=True)):\n",
        "    print(f\"--- Passage {i+1} (doc_id: {row['doc_id']}) ---\")\n",
        "    print(row['text'])\n",
        "    print(\"\\n\" + \"=\"*80 + \"\\n\")"
      ]
    },
    {
      "cell_type": "markdown",
      "id": "6479d0ed",
      "metadata": {
        "id": "6479d0ed",
        "papermill": {
          "duration": 0.035045,
          "end_time": "2025-08-27T15:42:55.380964",
          "exception": false,
          "start_time": "2025-08-27T15:42:55.345919",
          "status": "completed"
        },
        "tags": []
      },
      "source": [
        "## 2.2. Text Processing and Indexing\n",
        "\n",
        "This section covers the two main components for building our search engine: cleaning the text and constructing an efficient index to find it later."
      ]
    },
    {
      "cell_type": "markdown",
      "id": "60cfea3d",
      "metadata": {
        "id": "60cfea3d",
        "papermill": {
          "duration": 0.034371,
          "end_time": "2025-08-27T15:42:55.450058",
          "exception": false,
          "start_time": "2025-08-27T15:42:55.415687",
          "status": "completed"
        },
        "tags": []
      },
      "source": [
        "### 2.2.1. Text Pre-processing Pipeline\n",
        "\n",
        "Our pre-processing pipeline is designed to transform raw text into a clean, normalised set of tokens suitable for indexing.\n",
        "\n",
        "The pipeline executes the following steps:\n",
        "\n",
        "1.  **Lowercase Normalisation:** Text is converted to lowercase to handle case variations.\n",
        "2.  **Advanced Tokenisation:** A custom regular expression pattern is employed to break text into meaningful tokens. This is a critical step that goes beyond simple whitespace splitting to preserve important semantic units. More on this below, after the code cell.\n",
        "3.  **Stopword Removal:** Common English words with low semantic value (e.g. \"the\", \"a\", \"is\") are removed using NLTK's standard stopword list to reduce index size and improve focus on meaningful terms.\n",
        "4.  **Stemming:** Words are reduced to their morphological root using the efficient PyStemmer implementation of the Snowball algorithm. This allows queries to match different variations of a word (e.g. \"retrieve\", \"retrieving\", \"retrieval\").\n",
        "\n",
        "To optimise performance, the results of the stemming process are cached using Python's `@lru_cache`, reducing redundant computations on repeated words throughout the corpus."
      ]
    },
    {
      "cell_type": "code",
      "execution_count": null,
      "id": "6adf5758",
      "metadata": {
        "execution": {
          "iopub.execute_input": "2025-08-27T15:42:55.520185Z",
          "iopub.status.busy": "2025-08-27T15:42:55.519864Z",
          "iopub.status.idle": "2025-08-27T15:42:55.601115Z",
          "shell.execute_reply": "2025-08-27T15:42:55.600236Z"
        },
        "id": "6adf5758",
        "papermill": {
          "duration": 0.11841,
          "end_time": "2025-08-27T15:42:55.602879",
          "exception": false,
          "start_time": "2025-08-27T15:42:55.484469",
          "status": "completed"
        },
        "tags": []
      },
      "outputs": [],
      "source": [
        "# --- Preprocessing Components ---\n",
        "\n",
        "# Load English stopwords once (cached after first download)\n",
        "nltk.download(\"stopwords\", quiet=True)\n",
        "STOP_WORDS = frozenset(nltk.corpus.stopwords.words(\"english\"))\n",
        "\n",
        "# Initialize fast English stemmer from PyStemmer library\n",
        "stemmer = Stemmer.Stemmer('english')\n",
        "\n",
        "# Tokenization pattern\n",
        "TOKEN_PATTERN = re.compile(r'''\n",
        "    [a-z]+                    # Standard alphabetic words\n",
        "    | [a-z]+-[a-z]+          # Hyphenated compounds\n",
        "    | \\d+[a-z]+              # Number-letter combos (COVID-19, 2nd)\n",
        "    | [a-z]+\\d+              # Letter-number combos (iPhone4, Web2.0)\n",
        "    | [a-z]+\\.               # Abbreviations with periods\n",
        "    | \\d{4}                  # Years (2020, 1995)\n",
        "    | \\d+\\.\\d+               # Version numbers (2.5, 10.3)\n",
        "    | \\d+                    # Standalone numbers (quantities, IDs)\n",
        "''', re.VERBOSE | re.IGNORECASE)\n",
        "\n",
        "# Cache stemmed words to avoid redundant stemming operations\n",
        "# Particularly effective for repeated terms in large corpora\n",
        "@lru_cache(maxsize=None)\n",
        "def stem_word(word: str) -> str:\n",
        "   # Stems a single word using the Snowball stemmer.\n",
        "   return stemmer.stemWord(word)\n",
        "\n",
        "def preprocess(text: str) -> list[str]:\n",
        "    # Complete text preprocessing pipeline optimized for information retrieval.\n",
        "\n",
        "    # Return empty list for empty or None text\n",
        "    if not text:\n",
        "        return []\n",
        "\n",
        "    # Extract tokens directly from lowercased text\n",
        "    tokens = TOKEN_PATTERN.findall(text.lower())\n",
        "\n",
        "    # Filter stopwords and short tokens, then stem\n",
        "    return [stem_word(tok) for tok in tokens if len(tok) > 1 and tok not in STOP_WORDS]"
      ]
    },
    {
      "cell_type": "markdown",
      "id": "fd1b2b79",
      "metadata": {
        "id": "fd1b2b79",
        "papermill": {
          "duration": 0.034979,
          "end_time": "2025-08-27T15:42:55.673583",
          "exception": false,
          "start_time": "2025-08-27T15:42:55.638604",
          "status": "completed"
        },
        "tags": []
      },
      "source": [
        "**Tokenization Strategy**\n",
        "\n",
        "Our tokenization pattern balances comprehensiveness with precision, capturing the core linguistic elements found in information retrieval contexts:\n",
        "\n",
        "**Included:**\n",
        "- **Standard words** (`[a-z]+`) and **hyphenated compounds** (`state-of-the-art`)\n",
        "- **Mixed alphanumeric terms** (`covid19`, `iphone12`) as single semantic units\n",
        "- **Numerical data**: standalone numbers, decimals (`2.5`), and years (`2020`)\n",
        "- **Abbreviations** with periods (`u.s.`, `dr.`)\n",
        "\n",
        "**Deliberately excluded:**\n",
        "- URLs and email addresses (would fragment into less meaningful subcomponents)\n",
        "- Social media elements (hashtags, mentions)\n",
        "- Date formats (captured more effectively as separate tokens)\n",
        "- Currency symbols (the numerical value typically carries the semantic weight)\n",
        "\n",
        "This approach prioritizes tokens that preserve semantic coherence while avoiding patterns that might introduce retrieval noise or reduce term discrimination."
      ]
    },
    {
      "cell_type": "markdown",
      "id": "3ad9d4d3",
      "metadata": {
        "id": "3ad9d4d3",
        "papermill": {
          "duration": 0.033981,
          "end_time": "2025-08-27T15:42:55.744944",
          "exception": false,
          "start_time": "2025-08-27T15:42:55.710963",
          "status": "completed"
        },
        "tags": []
      },
      "source": [
        "### 2.2.2. The Inverted Index\n",
        "\n",
        "The core of our IR system is the inverted index, a data structure that efficiently maps terms to the documents they appear in. It consists of three main components:\n",
        "\n",
        "*   **Lexicon:** A dictionary mapping each unique term to a unique integer ID and collection-wide statistics, such as its document frequency (the number of documents it appears in).\n",
        "*   **Postings Lists:** For each term, this stores a list of the documents it appears in (the `docid`) and its frequency within each of those documents (`tf`).\n",
        "*   **Document Index:** A table that stores metadata for each document, primarily its original string ID and its length (total number of tokens).\n",
        "\n",
        "The `build_index` function below implements a single-pass in-memory indexing algorithm. It iterates through each document, applies the preprocessing pipeline, and calculates term frequencies. As it processes the collection, it populates the lexicon, the posting lists, and the document index simultaneously. Once all documents are processed, the posting lists are converted to efficient NumPy arrays to finalise the index structure."
      ]
    },
    {
      "cell_type": "code",
      "execution_count": null,
      "id": "afd22485",
      "metadata": {
        "execution": {
          "iopub.execute_input": "2025-08-27T15:42:55.815158Z",
          "iopub.status.busy": "2025-08-27T15:42:55.814835Z",
          "iopub.status.idle": "2025-08-27T15:42:55.825861Z",
          "shell.execute_reply": "2025-08-27T15:42:55.824869Z"
        },
        "id": "afd22485",
        "papermill": {
          "duration": 0.048275,
          "end_time": "2025-08-27T15:42:55.827295",
          "exception": false,
          "start_time": "2025-08-27T15:42:55.779020",
          "status": "completed"
        },
        "tags": []
      },
      "outputs": [],
      "source": [
        "@profile\n",
        "def build_index(df):\n",
        "    print(f\"Preprocessing {df.height:,} documents...\")\n",
        "\n",
        "    # --- 1. INITIALIZE DATA STRUCTURES ---\n",
        "\n",
        "    # Lexicon: Maps a term (str) to a list -> [term_id, doc_frequency, collection_frequency]\n",
        "    lexicon = {}\n",
        "\n",
        "    # Temporary posting lists using defaultdict for convenient appends.\n",
        "    # inv_d will store docIDs for each term, inv_f will store term frequencies.\n",
        "    inv_d, inv_f = defaultdict(list), defaultdict(list)\n",
        "\n",
        "    # Document Index: Stores metadata for each document as a tuple -> (original_doc_id, doc_length)\n",
        "    doc_index = []\n",
        "\n",
        "    # Helper mapping from original document ID to our internal, 0-indexed integer ID\n",
        "    doc_id_to_idx = {}\n",
        "\n",
        "    # Counters for assigning unique, sequential integer IDs to terms and documents\n",
        "    next_tid = 0\n",
        "    internal_docid = 0\n",
        "\n",
        "    # --- 2. POPULATE INDEX (SINGLE-PASS) ---\n",
        "    # Iterate through each document in the collection to build the index in one pass\n",
        "    for row_idx, (original_doc_id, text) in tqdm(\n",
        "        enumerate(df.iter_rows()),\n",
        "        total=df.height, desc=\"Building index\"\n",
        "    ):\n",
        "        # Apply the text preprocessing pipeline to get clean tokens\n",
        "        tokens = preprocess(text)\n",
        "\n",
        "        # Handle empty documents to ensure they are still included in the doc_index: no terms, length 0\n",
        "        if not tokens:\n",
        "            doc_index.append((str(original_doc_id), 0))\n",
        "            doc_id_to_idx[original_doc_id] = internal_docid\n",
        "            internal_docid += 1\n",
        "            continue\n",
        "\n",
        "        # Calculate term frequencies for the current document using Counter from the collections module\n",
        "        tf = Counter(tokens)\n",
        "\n",
        "        # For each unique term in the document, update the lexicon and posting lists\n",
        "        for tok, f in tf.items():\n",
        "            # If the term is new, add it to the lexicon and assign a new term_id\n",
        "            if tok not in lexicon:\n",
        "                lexicon[tok] = [next_tid, 0, 0] # [term_id, df, cf]\n",
        "                next_tid += 1\n",
        "\n",
        "            # Retrieve the term's unique integer ID.\n",
        "            tid = lexicon[tok][0]\n",
        "\n",
        "            # Append the current document's internal ID and the term's frequency to the postings\n",
        "            inv_d[tid].append(internal_docid)\n",
        "            inv_f[tid].append(f)\n",
        "\n",
        "            # Update collection-wide statistics for the term\n",
        "            lexicon[tok][1] += 1  # Increment document frequency\n",
        "            lexicon[tok][2] += f   # Increment collection frequency\n",
        "\n",
        "        # Add the document's metadata to the document index.\n",
        "        doc_index.append((str(original_doc_id), len(tokens)))\n",
        "        doc_id_to_idx[original_doc_id] = internal_docid\n",
        "        internal_docid += 1\n",
        "\n",
        "    # --- 3. FINALIZE INDEX STRUCTURE ---\n",
        "    print(\"Finalizing index structure...\")\n",
        "    final_inv_d = {}\n",
        "    final_inv_f = {}\n",
        "    index_size = 0\n",
        "\n",
        "    # Convert the temporary Python lists into efficient NumPy arrays\n",
        "    for tid in tqdm(inv_d.keys(), desc=\"Converting posting lists\"):\n",
        "        # Convert docIDs to a sorted NumPy array for fast lookups and intersection\n",
        "        # Sorting by docID is crucial for efficient query processing algorithms (in our case, DAAT)\n",
        "        # We use uint32 for memory efficiency, as docIDs are non-negative.\n",
        "        docids = np.array(sorted(inv_d[tid]), dtype=np.uint32)\n",
        "\n",
        "        # Frequencies are stored in a parallel array, maintaining the order of the sorted docIDs\n",
        "        freqs = np.array(inv_f[tid], dtype=np.uint32)\n",
        "\n",
        "        final_inv_d[tid] = docids\n",
        "        final_inv_f[tid] = freqs\n",
        "\n",
        "        # Track the total memory size of the posting lists.\n",
        "        index_size += docids.nbytes + freqs.nbytes\n",
        "\n",
        "    # Compile final statistics about the collection and the created index.\n",
        "    stats = {\n",
        "        \"num_docs\": len(doc_index),\n",
        "        \"num_terms\": len(lexicon),\n",
        "        \"num_tokens\": sum(dl for _, dl in doc_index),\n",
        "        \"index_size_mb\": index_size / (1024 * 1024),\n",
        "    }\n",
        "\n",
        "    print(f\"Indexing Complete:\")\n",
        "    print(f\"   Documents indexed: {stats['num_docs']:,}\")\n",
        "    print(f\"   Unique terms: {stats['num_terms']:,}\")\n",
        "    print(f\"   Index size: {stats['index_size_mb']:.1f} MB\")\n",
        "\n",
        "    # Return the three core components of the inverted index and the statistics dictionary\n",
        "    return lexicon, {\"docids\": final_inv_d, \"frequencies\": final_inv_f}, doc_index, stats"
      ]
    },
    {
      "cell_type": "markdown",
      "id": "e05e7baa",
      "metadata": {
        "id": "e05e7baa",
        "papermill": {
          "duration": 0.034024,
          "end_time": "2025-08-27T15:42:55.896166",
          "exception": false,
          "start_time": "2025-08-27T15:42:55.862142",
          "status": "completed"
        },
        "tags": []
      },
      "source": [
        "Given the size of the MSMARCO collection, the resulting index is large but still manageable enough to fit entirely within main memory. This allows us to adopt an in-memory approach, which offers significant speed advantages by eliminating disk I/O bottlenecks during query processing.\n",
        "\n",
        "Consequently, we will build an **uncompressed** index. While compression techniques can drastically reduce the index's size on disk, they introduce a computational overhead for decompression at query time. For an in-memory index where I/O is not a factor, this CPU cost can actually lead to slower query performance. The design choice was validated by an early experiment where delta compression was implemented and tested. On a local machine with stable performance (unlike Colab), the decompression overhead consistently led to a slight increase in query latency, confirming that an uncompressed, in-memory index is faster for this particular use case. The trade-off favors CPU efficiency over memory savings when sufficient RAM is available."
      ]
    },
    {
      "cell_type": "markdown",
      "id": "814fa9eb",
      "metadata": {
        "id": "814fa9eb",
        "papermill": {
          "duration": 0.03401,
          "end_time": "2025-08-27T15:42:55.964583",
          "exception": false,
          "start_time": "2025-08-27T15:42:55.930573",
          "status": "completed"
        },
        "tags": []
      },
      "source": [
        "Now we execute the indexing process on the full MSMARCO collection. The function is designed to be robust, correctly handling edge cases such as empty documents to ensure the final index is consistent.\n",
        "\n",
        "This is the most computationally intensive step in the pipeline and will take some time to complete (~17 minutes on Colab). The output will confirm the final statistics of our uncompressed index, including its size in memory. After the index is built, the original DataFrame is deleted to free up memory."
      ]
    },
    {
      "cell_type": "code",
      "execution_count": null,
      "id": "0f1f0e7a",
      "metadata": {
        "colab": {
          "referenced_widgets": [
            "070680b8a7b542d5a638d51a0171c142",
            "7d0d555064b84d83af74221ce9cedef5"
          ]
        },
        "execution": {
          "iopub.execute_input": "2025-08-27T15:42:56.036726Z",
          "iopub.status.busy": "2025-08-27T15:42:56.035586Z",
          "iopub.status.idle": "2025-08-27T16:00:13.355203Z",
          "shell.execute_reply": "2025-08-27T16:00:13.354254Z"
        },
        "id": "0f1f0e7a",
        "outputId": "a2222bc8-1ed6-4742-e874-063b1bb06bc5",
        "papermill": {
          "duration": 1037.358813,
          "end_time": "2025-08-27T16:00:13.357598",
          "exception": false,
          "start_time": "2025-08-27T15:42:55.998785",
          "status": "completed"
        },
        "tags": []
      },
      "outputs": [
        {
          "name": "stdout",
          "output_type": "stream",
          "text": [
            "Preprocessing 8,841,823 documents...\n"
          ]
        },
        {
          "data": {
            "application/vnd.jupyter.widget-view+json": {
              "model_id": "070680b8a7b542d5a638d51a0171c142",
              "version_major": 2,
              "version_minor": 0
            },
            "text/plain": [
              "Building index:   0%|          | 0/8841823 [00:00<?, ?it/s]"
            ]
          },
          "metadata": {},
          "output_type": "display_data"
        },
        {
          "name": "stdout",
          "output_type": "stream",
          "text": [
            "Finalizing index structure...\n"
          ]
        },
        {
          "data": {
            "application/vnd.jupyter.widget-view+json": {
              "model_id": "7d0d555064b84d83af74221ce9cedef5",
              "version_major": 2,
              "version_minor": 0
            },
            "text/plain": [
              "Converting posting lists:   0%|          | 0/1199677 [00:00<?, ?it/s]"
            ]
          },
          "metadata": {},
          "output_type": "display_data"
        },
        {
          "name": "stdout",
          "output_type": "stream",
          "text": [
            "Indexing Complete:\n",
            "   Documents indexed: 8,841,823\n",
            "   Unique terms: 1,199,677\n",
            "   Index size: 1686.7 MB\n",
            "build_index (1017588.673 ms)\n",
            "Documents processed: 8841823\n",
            "Total tokens: 294,446,050\n",
            "Unique tokens: 1,199,677\n"
          ]
        },
        {
          "data": {
            "text/plain": [
              "1199719"
            ]
          },
          "execution_count": 7,
          "metadata": {},
          "output_type": "execute_result"
        }
      ],
      "source": [
        "lex, inv, doc, stats = build_index(df)\n",
        "print(f\"Documents processed: {len(doc)}\")\n",
        "print(f\"Total tokens: {stats['num_tokens']:,}\")\n",
        "print(f\"Unique tokens: {stats['num_terms']:,}\")\n",
        "\n",
        "# Delete the original DataFrame to save more memory\n",
        "del df\n",
        "gc.collect()"
      ]
    },
    {
      "cell_type": "markdown",
      "id": "f2f43e5e",
      "metadata": {
        "id": "f2f43e5e",
        "papermill": {
          "duration": 0.035487,
          "end_time": "2025-08-27T16:00:13.430397",
          "exception": false,
          "start_time": "2025-08-27T16:00:13.394910",
          "status": "completed"
        },
        "tags": []
      },
      "source": [
        "While a production system would save the built index to disk to avoid costly re-computation, we intentionally keep the index in-memory for this project. This design choice is tailored for a single, end-to-end demonstration in an ephemeral cloud environment like Colab. It simplifies the workflow by removing the I/O overhead of serialization, keeping the focus entirely on the implementation of the core IR pipeline within a single execution."
      ]
    },
    {
      "cell_type": "markdown",
      "id": "b386148f",
      "metadata": {
        "id": "b386148f",
        "papermill": {
          "duration": 0.034579,
          "end_time": "2025-08-27T16:00:13.500236",
          "exception": false,
          "start_time": "2025-08-27T16:00:13.465657",
          "status": "completed"
        },
        "tags": []
      },
      "source": [
        "# 3. Ranked Retrieval & Query Processing\n",
        "\n",
        "With the index built, we can now implement the logic for searching and ranking documents based on a user's query.\n",
        "\n",
        "Instead of simply returning a set of matching documents, a modern IR system ranks them by their estimated relevance. This section covers the scoring functions and the query processing algorithms used to produce this ranked list."
      ]
    },
    {
      "cell_type": "markdown",
      "id": "32a1647d",
      "metadata": {
        "id": "32a1647d",
        "papermill": {
          "duration": 0.034434,
          "end_time": "2025-08-27T16:00:13.569952",
          "exception": false,
          "start_time": "2025-08-27T16:00:13.535518",
          "status": "completed"
        },
        "tags": []
      },
      "source": [
        "## 3.1. Scoring Functions\n",
        "\n",
        "We implement three standard scoring functions to rank documents. Each function calculates a relevance score for a document *d* with respect to a query *q*. The final score is typically the sum of individual term scores over all query terms found in the document."
      ]
    },
    {
      "cell_type": "markdown",
      "id": "696887c0",
      "metadata": {
        "id": "696887c0",
        "papermill": {
          "duration": 0.035897,
          "end_time": "2025-08-27T16:00:13.640761",
          "exception": false,
          "start_time": "2025-08-27T16:00:13.604864",
          "status": "completed"
        },
        "tags": []
      },
      "source": [
        "**TF (Term Frequency)**\n",
        "\n",
        "As a basic baseline, we implement a simple Term Frequency model. This function scores documents based solely on the raw count of query terms they contain, without considering term rarity or document length. To dampen the effect of high-frequency terms (where relevance does not grow proportionally with frequency), we use a logarithmic scaling of the raw term frequency.\n",
        "\n",
        "$$\n",
        "\\text{score}(q, d) = \\sum_{t \\in q \\cap d} \\left(1 + \\log(\\text{tf}_{t,d})\\right)\n",
        "$$\n",
        "where $\\text{tf}_{t,d}$ is the frequency of term $t$ in document $d$.\n",
        "\n",
        "If a query term is not present in a document (i.e., its term frequency, $\\text{tf}_{t,d}$, is zero), its contribution to the final score is zero."
      ]
    },
    {
      "cell_type": "code",
      "execution_count": null,
      "id": "2ee96ac9",
      "metadata": {
        "execution": {
          "iopub.execute_input": "2025-08-27T16:00:13.714783Z",
          "iopub.status.busy": "2025-08-27T16:00:13.714434Z",
          "iopub.status.idle": "2025-08-27T16:00:13.719427Z",
          "shell.execute_reply": "2025-08-27T16:00:13.718582Z"
        },
        "id": "2ee96ac9",
        "papermill": {
          "duration": 0.043979,
          "end_time": "2025-08-27T16:00:13.720894",
          "exception": false,
          "start_time": "2025-08-27T16:00:13.676915",
          "status": "completed"
        },
        "tags": []
      },
      "outputs": [],
      "source": [
        "def tf_score(tf):\n",
        "    return 1 + math.log(tf) if tf > 0 else 0"
      ]
    },
    {
      "cell_type": "markdown",
      "id": "b1fee882",
      "metadata": {
        "id": "b1fee882",
        "papermill": {
          "duration": 0.034702,
          "end_time": "2025-08-27T16:00:13.791576",
          "exception": false,
          "start_time": "2025-08-27T16:00:13.756874",
          "status": "completed"
        },
        "tags": []
      },
      "source": [
        "  \n",
        "**TF-IDF**\n",
        "\n",
        "It calculates a weight for each term in a document based on two factors: Term Frequency (TF), which measures how often a term appears in a document, and Inverse Document Frequency (IDF), which gives more weight to terms that are rare across the entire collection. This helps prioritise documents containing more discriminative terms.\n",
        "\n",
        "$$\n",
        "\\text{score}(q, d) = \\sum_{t \\in q \\cap d} \\underbrace{\\left(1 + \\log(\\text{tf}_{t,d})\\right)}_{\\text{Term Frequency Weight}} \\times \\underbrace{\\log\\left(\\frac{N}{\\text{df}_t}\\right)}_{\\text{Inverse Document Frequency}}\n",
        "$$\n",
        "where $N$ is the total number of documents in the collection, and $\\text{df}_t$ is the number of documents containing term $t$.\n",
        "While TF-IDF is conceptually a cornerstone of the Vector Space Model, our implementation uses a common and efficient \"sum-of-scores\" approach. Instead of computing a full cosine similarity between query and document vectors, we sum the calculated weights for only the query terms that appear in the document.\n",
        "\n",
        "Again, if a query term is not present in a document (i.e., its term frequency, $\\text{tf}_{t,d}$, is zero), its contribution to the final score is zero."
      ]
    },
    {
      "cell_type": "code",
      "execution_count": null,
      "id": "95b8f736",
      "metadata": {
        "execution": {
          "iopub.execute_input": "2025-08-27T16:00:13.864199Z",
          "iopub.status.busy": "2025-08-27T16:00:13.863888Z",
          "iopub.status.idle": "2025-08-27T16:00:13.868267Z",
          "shell.execute_reply": "2025-08-27T16:00:13.867574Z"
        },
        "id": "95b8f736",
        "papermill": {
          "duration": 0.041964,
          "end_time": "2025-08-27T16:00:13.869600",
          "exception": false,
          "start_time": "2025-08-27T16:00:13.827636",
          "status": "completed"
        },
        "tags": []
      },
      "outputs": [],
      "source": [
        "def tfidf_score(tf, idf):\n",
        "    return (1 + math.log(tf)) * idf if tf > 0 else 0"
      ]
    },
    {
      "cell_type": "markdown",
      "id": "4da46cf5",
      "metadata": {
        "id": "4da46cf5",
        "papermill": {
          "duration": 0.035926,
          "end_time": "2025-08-27T16:00:13.941294",
          "exception": false,
          "start_time": "2025-08-27T16:00:13.905368",
          "status": "completed"
        },
        "tags": []
      },
      "source": [
        "**Okapi BM25 (Best Match 25)**\n",
        "\n",
        "It incorporates two key enhancements w.r.t. TF-IDF: document length normalisation, which prevents longer documents from being unfairly favoured, and term frequency saturation, which ensures that the score contribution from a single term does not grow indefinitely with its frequency.\n",
        "$$\n",
        "\\text{score}(q, d) = \\sum_{t \\in q \\cap d} \\text{IDF}(t) \\cdot \\frac{\\text{tf}_{t,d}}{k_1 \\left((1 - b) + b \\cdot \\frac{|d|}{\\text{avgdl}}\\right) + \\text{tf}_{t,d}}\n",
        "$$\n",
        "BM25 introduces two tunable parameters:\n",
        "*   **`k1` (typically 1.2 - 2.0):** Controls term frequency saturation. A lower `k1` causes the score contribution of a term to plateau more quickly as its frequency increases.\n",
        "*   **`b` (typically 0.75):** Controls the strength of document length normalisation. A value of `b=0` ignores document length, while `b=1` applies full normalisation."
      ]
    },
    {
      "cell_type": "code",
      "execution_count": null,
      "id": "ece9acec",
      "metadata": {
        "execution": {
          "iopub.execute_input": "2025-08-27T16:00:14.012985Z",
          "iopub.status.busy": "2025-08-27T16:00:14.012674Z",
          "iopub.status.idle": "2025-08-27T16:00:14.017345Z",
          "shell.execute_reply": "2025-08-27T16:00:14.016667Z"
        },
        "id": "ece9acec",
        "papermill": {
          "duration": 0.042193,
          "end_time": "2025-08-27T16:00:14.018717",
          "exception": false,
          "start_time": "2025-08-27T16:00:13.976524",
          "status": "completed"
        },
        "tags": []
      },
      "outputs": [],
      "source": [
        "# Scoring functions\n",
        "def bm25_score(tf, dl, avdl, idf, b=0.75, k=1.2):\n",
        "    return (tf / (k * ((1-b) + b * dl / avdl) + tf)) * idf"
      ]
    },
    {
      "cell_type": "markdown",
      "id": "269f5a59",
      "metadata": {
        "id": "269f5a59",
        "papermill": {
          "duration": 0.034915,
          "end_time": "2025-08-27T16:00:14.090288",
          "exception": false,
          "start_time": "2025-08-27T16:00:14.055373",
          "status": "completed"
        },
        "tags": []
      },
      "source": [
        "We do not use BM25F, a variant of BM25, because it is designed for documents with distinct fields (e.g. title, body). Since MSMARCO passages are unstructured text blocks, BM25F simplifies to standard BM25."
      ]
    },
    {
      "cell_type": "markdown",
      "id": "6076ab7a",
      "metadata": {
        "id": "6076ab7a",
        "papermill": {
          "duration": 0.035,
          "end_time": "2025-08-27T16:00:14.160824",
          "exception": false,
          "start_time": "2025-08-27T16:00:14.125824",
          "status": "completed"
        },
        "tags": []
      },
      "source": [
        "## 3.2. The Inverted Index Class\n",
        "\n",
        "To manage the index and facilitate efficient query processing, we encapsulate the data structures within an `InvertedIndex` class. This class provides a clean interface for retrieving posting lists and document metadata. Crucially, it includes a `PostingListIterator` which allows the query processing algorithms to traverse the posting lists efficiently."
      ]
    },
    {
      "cell_type": "code",
      "execution_count": null,
      "id": "bb61bf96",
      "metadata": {
        "execution": {
          "iopub.execute_input": "2025-08-27T16:00:14.232801Z",
          "iopub.status.busy": "2025-08-27T16:00:14.231899Z",
          "iopub.status.idle": "2025-08-27T16:00:14.249466Z",
          "shell.execute_reply": "2025-08-27T16:00:14.248609Z"
        },
        "id": "bb61bf96",
        "papermill": {
          "duration": 0.055205,
          "end_time": "2025-08-27T16:00:14.250815",
          "exception": false,
          "start_time": "2025-08-27T16:00:14.195610",
          "status": "completed"
        },
        "tags": []
      },
      "outputs": [],
      "source": [
        "# --- Inverted Index Management Class ---\n",
        "# This class encapsulates the inverted index data structures and provides a clean interface for query processing.\n",
        "\n",
        "class InvertedIndex:\n",
        "    # The PostingListIterator is a stateful object that allows efficient traversal of a single term's posting list\n",
        "    class PostingListIterator:\n",
        "        def __init__(self, docids, freqs, doc, num_docs, total_dl, df):\n",
        "            # Since our index is uncompressed, these are direct NumPy array references\n",
        "            self.docids = docids\n",
        "            self.freqs = freqs\n",
        "\n",
        "            # References to the full document index and collection stats are passed in to enable on-the-fly score calculations.\n",
        "            self.doc = doc\n",
        "            self.num_docs = num_docs\n",
        "            self.total_dl = total_dl\n",
        "            self.df = df\n",
        "\n",
        "            # 'pos' is the pointer to the current position in the posting list.\n",
        "            self.pos = 0\n",
        "\n",
        "        # Returns the document ID at the current iterator position\n",
        "        def docid(self):\n",
        "            # returns infinity when a list is exhausted\n",
        "            # this ensures it's never selected as the minimum in the processing heap\n",
        "            if self.is_end_list():\n",
        "                return math.inf\n",
        "            return int(self.docids[self.pos])\n",
        "\n",
        "        # Calculates the relevance score for the current document based on the chosen method\n",
        "        def score(self, type='bm25'):\n",
        "            if self.is_end_list():\n",
        "                return math.inf\n",
        "\n",
        "            if type == 'bm25':\n",
        "                return bm25_score(\n",
        "                    tf=int(self.freqs[self.pos]),\n",
        "                    dl=self.doc[self.docid()][1],\n",
        "                    avdl=(self.total_dl / self.num_docs),\n",
        "                    idf=math.log(self.num_docs / self.df)\n",
        "                )\n",
        "            elif type == 'tf':\n",
        "                return tf_score(int(self.freqs[self.pos]))\n",
        "            elif type == 'tfidf':\n",
        "                return tfidf_score(int(self.freqs[self.pos]), math.log(self.num_docs / self.df))\n",
        "            else:\n",
        "                raise ValueError('Invalid score type')\n",
        "\n",
        "        # Advances the iterator's position. Supports both linear scan and efficient seeking.\n",
        "        def next(self, target=None):\n",
        "            # If no target is specified, perform a simple linear scan\n",
        "            if not target:\n",
        "                if not self.is_end_list():\n",
        "                    self.pos += 1\n",
        "            # If a target docID is provided, perform an efficient skip\n",
        "            else:\n",
        "                if target > self.docid():\n",
        "                    # np.searchsorted performs a binary search on the sorted docids array, for an efficient \"skip-to\" operation.\n",
        "                    # This advances the pointer to the target docID or the first docID greater than it\n",
        "                    idx = np.searchsorted(self.docids[self.pos:], target)\n",
        "                    self.pos = min(self.pos + idx, len(self.docids))\n",
        "\n",
        "        # Checks if the iterator has reached the end of the posting list\n",
        "        def is_end_list(self):\n",
        "            return self.pos >= len(self.docids)\n",
        "\n",
        "        # Returns the total number of documents in this posting list (the document frequency)\n",
        "        def len(self):\n",
        "            return len(self.docids)\n",
        "\n",
        "    # Initializes the InvertedIndex with the data structures from the indexing process\n",
        "    def __init__(self, lex, inv, doc, stats):\n",
        "        self.lexicon = lex\n",
        "        self.inv = inv\n",
        "        self.doc = doc\n",
        "        self.stats = stats\n",
        "        self.scoring_method = 'bm25'  # Default scoring method.\n",
        "\n",
        "        # Pre-compute more efficient lookup dictionaries to get term statistics directly by term or by term_id, avoiding repeated dictionary traversals\n",
        "        self.term_to_info = {}\n",
        "        self.tid_to_info = {}\n",
        "        for term, info in lex.items():\n",
        "            term_id, df, cf = info\n",
        "            self.term_to_info[term] = (df, cf)\n",
        "            self.tid_to_info[term_id] = (df, cf)\n",
        "\n",
        "    # Helper methods to access collection-wide statistics\n",
        "    def num_docs(self):\n",
        "        return self.stats.get('num_docs')\n",
        "\n",
        "    def total_dl(self):\n",
        "        return self.stats.get('num_tokens')\n",
        "\n",
        "    # Creates and returns an iterator for a given term's posting list\n",
        "    def get_posting(self, termid):\n",
        "        # Efficiently get document frequency (df) from the pre-computed mapping.\n",
        "        # Default to (1, 1) to prevent division-by-zero errors for non-existent terms.\n",
        "        df = self.tid_to_info.get(termid, (1, 1))[0]\n",
        "\n",
        "        # Retrieve the numpy arrays for docids and frequencies\n",
        "        docids = self.inv.get('docids', {}).get(termid, np.array([]))\n",
        "        freqs = self.inv.get('frequencies', {}).get(termid, np.array([]))\n",
        "\n",
        "        return InvertedIndex.PostingListIterator(docids, freqs, self.doc,\n",
        "                                                 self.num_docs(), self.total_dl(), df)\n",
        "\n",
        "    # Converts query tokens (strings) into their corresponding integer term IDs\n",
        "    def get_termids(self, tokens):\n",
        "        # Filters out any tokens not present in the lexicon (out-of-vocabulary terms)\n",
        "        return [self.lexicon.get(token, [None])[0] for token in tokens if token in self.lexicon]\n",
        "\n",
        "    # Helper method to get a list of posting list iterators for a list of term IDs\n",
        "    def get_postings(self, termids):\n",
        "        return [self.get_posting(termid) for termid in termids if termid is not None]\n",
        "\n",
        "    # Sets the scoring method to be used by the PostingListIterator\n",
        "    def set_scoring_method(self, method):\n",
        "        self.scoring_method = method"
      ]
    },
    {
      "cell_type": "markdown",
      "id": "751d86f4",
      "metadata": {
        "id": "751d86f4",
        "papermill": {
          "duration": 0.034586,
          "end_time": "2025-08-27T16:00:14.320848",
          "exception": false,
          "start_time": "2025-08-27T16:00:14.286262",
          "status": "completed"
        },
        "tags": []
      },
      "source": [
        "Now, we build the `InvertedIndex` class:"
      ]
    },
    {
      "cell_type": "code",
      "execution_count": null,
      "id": "4c31202c",
      "metadata": {
        "execution": {
          "iopub.execute_input": "2025-08-27T16:00:14.391342Z",
          "iopub.status.busy": "2025-08-27T16:00:14.391071Z",
          "iopub.status.idle": "2025-08-27T16:00:15.726167Z",
          "shell.execute_reply": "2025-08-27T16:00:15.725179Z"
        },
        "id": "4c31202c",
        "outputId": "7574de43-67d9-43c3-d40f-d721bae5b6dd",
        "papermill": {
          "duration": 1.371963,
          "end_time": "2025-08-27T16:00:15.727610",
          "exception": false,
          "start_time": "2025-08-27T16:00:14.355647",
          "status": "completed"
        },
        "tags": []
      },
      "outputs": [
        {
          "name": "stdout",
          "output_type": "stream",
          "text": [
            "Index created successfully.\n",
            "   Documents indexed: 8,841,823\n",
            "   Unique terms: 1,199,677\n",
            "   Index size: 1686.7 MB\n"
          ]
        }
      ],
      "source": [
        "inv_index = InvertedIndex(lex, inv, doc, stats)\n",
        "\n",
        "print(f\"Index created successfully.\")\n",
        "print(f\"   Documents indexed: {stats['num_docs']:,}\")\n",
        "print(f\"   Unique terms: {stats['num_terms']:,}\")\n",
        "print(f\"   Index size: {stats['index_size_mb']:.1f} MB\")"
      ]
    },
    {
      "cell_type": "markdown",
      "id": "defbeaaf",
      "metadata": {
        "id": "defbeaaf",
        "papermill": {
          "duration": 0.035217,
          "end_time": "2025-08-27T16:00:15.799279",
          "exception": false,
          "start_time": "2025-08-27T16:00:15.764062",
          "status": "completed"
        },
        "tags": []
      },
      "source": [
        "## 3.3. Top-k Retrieval\n",
        "\n",
        "To efficiently manage the top `k` results during query processing, we implement a `TopQueue` class. Instead of storing all candidate documents and sorting them at the end, this class uses a min-heap to maintain only the `k` highest-scoring documents seen so far.\n",
        "\n",
        "In this approach, the lowest score in the heap becomes a dynamic threshold. Any new document that scores below this threshold can be immediately discarded. For deterministic ranking (essential for debugging and verifying that different algorithms like DAAT and TAAT produce identical results), the queue also breaks score ties by favouring documents with lower docIDs."
      ]
    },
    {
      "cell_type": "code",
      "execution_count": null,
      "id": "95d29de4",
      "metadata": {
        "execution": {
          "iopub.execute_input": "2025-08-27T16:00:15.872616Z",
          "iopub.status.busy": "2025-08-27T16:00:15.872289Z",
          "iopub.status.idle": "2025-08-27T16:00:15.882396Z",
          "shell.execute_reply": "2025-08-27T16:00:15.881563Z"
        },
        "id": "95d29de4",
        "papermill": {
          "duration": 0.049045,
          "end_time": "2025-08-27T16:00:15.883960",
          "exception": false,
          "start_time": "2025-08-27T16:00:15.834915",
          "status": "completed"
        },
        "tags": []
      },
      "outputs": [],
      "source": [
        "class TopQueue:\n",
        "    def __init__(self, k=10, threshold=0.0):\n",
        "        # The queue is implemented as a min-heap. Python's `heapq` module is used for this\n",
        "        self.queue = []\n",
        "\n",
        "        # The number of top results to maintain\n",
        "        self.k = k\n",
        "\n",
        "        # The score of the k-th best item. Any new item must beat this score to be considered\n",
        "        self.threshold = threshold\n",
        "\n",
        "    # Returns the current number of items in the queue.\n",
        "    def size(self):\n",
        "        return len(self.queue)\n",
        "\n",
        "    # Provides a string representation for debugging purposes.\n",
        "    def __repr__(self):\n",
        "        return f\"<TopQueue: {self.size()} items, threshold={self.threshold}, items={self.queue}>\"\n",
        "\n",
        "    # Attempts to insert a new (docid, score) pair into the queue.\n",
        "    def insert(self, docid, score):\n",
        "        # --- Early Exit Conditions ---\n",
        "        # If the queue is already full and the new score isn't better than the worst score currently in the queue, we can immediately reject it\n",
        "        if self.size() == self.k and score < self.threshold:\n",
        "            return False\n",
        "\n",
        "        # --- Tie-Breaking Logic for Deterministic Ranking ---\n",
        "        # If scores are identical, we need a consistent tie-breaking rule. We give priority to the document with the lower docID\n",
        "        if self.size() == self.k and score == self.threshold:\n",
        "            # The root of the min-heap, self.queue[0], holds the item with the lowest score\n",
        "            # We check if the new docID is better (smaller) than the docID of that worst item\n",
        "            worst_docid_in_queue = -self.queue[0][1] # Unpack the negated docID\n",
        "            if docid > worst_docid_in_queue:\n",
        "                return False # Reject because the new docID is not better.\n",
        "\n",
        "        # The heap stores (score, -docid). Negating the docid ensures that for tied scores, the item with the lower original docid is preferred, providing deterministic ranking\n",
        "        item = (score, -docid)\n",
        "\n",
        "        # --- Heap Manipulation ---\n",
        "        # If the queue is not yet full, simply add the new item\n",
        "        if self.size() < self.k:\n",
        "            heapq.heappush(self.queue, item)\n",
        "        # If the queue is full, push the new item and pop the smallest one simultaneously\n",
        "        else:\n",
        "            heapq.heappushpop(self.queue, item)\n",
        "\n",
        "        # Update the threshold to the new lowest score among the top k (only necessary when the queue is full)\n",
        "        if self.size() == self.k:\n",
        "            self.threshold = self.queue[0][0]\n",
        "\n",
        "        return True\n",
        "\n",
        "    # Retrieves the final top-k results from the queue\n",
        "    def get_top_k(self, sorted_desc=False):\n",
        "        # Unpack the (score, -neg_docid) tuples back into their original (score, docid) form\n",
        "        unpacked_items = [(score, -neg_docid) for score, neg_docid in self.queue]\n",
        "\n",
        "        if sorted_desc:\n",
        "            # For final presentation, sort the results in descending order of score\n",
        "            # The secondary sort key (-x[1]) ensures that for tied scores, the document with the lower docID appears first\n",
        "            return sorted(unpacked_items, key=lambda x: (x[0], -x[1]), reverse=True)\n",
        "\n",
        "        # Return the items as they are (unsorted)\n",
        "        return unpacked_items"
      ]
    },
    {
      "cell_type": "markdown",
      "id": "eb17d533",
      "metadata": {
        "id": "eb17d533",
        "papermill": {
          "duration": 0.03649,
          "end_time": "2025-08-27T16:00:15.956639",
          "exception": false,
          "start_time": "2025-08-27T16:00:15.920149",
          "status": "completed"
        },
        "tags": []
      },
      "source": [
        "## 3.4. Query Processing\n",
        "\n",
        "There are two standard algorithms for calculating document scores from posting lists:\n",
        "\n",
        "*   **Document-at-a-Time (DAAT):** Processes documents one by one. For each document, it calculates the full score by summing contributions from all query terms present within it. This is generally more memory-efficient and is the standard for modern search engines.\n",
        "*   **Term-at-a-Time (TAAT):** Processes one query term at a time, iterating through its entire posting list and adding partial scores to accumulators for every document.\n",
        "\n",
        "In this project, we implement the DAAT algorithm, as it is more scalable and forms the basis for many advanced retrieval optimisations."
      ]
    },
    {
      "cell_type": "markdown",
      "id": "76cf33d0",
      "metadata": {
        "id": "76cf33d0",
        "papermill": {
          "duration": 0.035447,
          "end_time": "2025-08-27T16:00:16.027843",
          "exception": false,
          "start_time": "2025-08-27T16:00:15.992396",
          "status": "completed"
        },
        "tags": []
      },
      "source": [
        "### 3.4.1. DAAT Implementation\n",
        "\n",
        "Our DAAT algorithm uses a min-heap to efficiently traverse the posting lists. The heap stores the current docID from each query term's posting list, allowing the algorithm to quickly identify the next document that needs to be scored. By processing documents in ascending order of their IDs, we can calculate the final score for each candidate document in a single pass."
      ]
    },
    {
      "cell_type": "code",
      "execution_count": null,
      "id": "378a760b",
      "metadata": {
        "execution": {
          "iopub.execute_input": "2025-08-27T16:00:16.105615Z",
          "iopub.status.busy": "2025-08-27T16:00:16.105311Z",
          "iopub.status.idle": "2025-08-27T16:00:16.115254Z",
          "shell.execute_reply": "2025-08-27T16:00:16.114362Z"
        },
        "id": "378a760b",
        "papermill": {
          "duration": 0.048155,
          "end_time": "2025-08-27T16:00:16.116738",
          "exception": false,
          "start_time": "2025-08-27T16:00:16.068583",
          "status": "completed"
        },
        "tags": []
      },
      "outputs": [],
      "source": [
        "# --- Document-at-a-Time (DAAT) Query Processing ---\n",
        "# This function implements the DAAT algorithm, which calculates scores for documents one at a time.\n",
        "# It processes documents in ascending order of their IDs, leveraging a min-heap to keep track of the next document to score.\n",
        "\n",
        "def query_processing_daat(query, inv_index, k=10):\n",
        "    # --- 1. PREPARATION ---\n",
        "    # Preprocess the raw query string to get a list of tokens\n",
        "    query_tokens = preprocess(query)\n",
        "    if not query_tokens:\n",
        "        return []  # Return empty if the query has no valid tokens\n",
        "\n",
        "    # Convert query tokens to their integer term IDs, filtering out any unknown words\n",
        "    term_ids = inv_index.get_termids(query_tokens)\n",
        "    if not term_ids:\n",
        "        return []  # Return empty if no query terms are in our index\n",
        "\n",
        "    # Get a list of PostingListIterator objects, one for each query term\n",
        "    postings = inv_index.get_postings(term_ids)\n",
        "    if not postings:\n",
        "        return []\n",
        "\n",
        "    # Determine which scoring function to use (`InvertedIndex` has a method to set this)\n",
        "    scoring_method = getattr(inv_index, 'scoring_method', 'bm25')\n",
        "\n",
        "    # Initialize the TopQueue to store the top-k results\n",
        "    top_queue = TopQueue(k=k)\n",
        "\n",
        "    # --- 2. INITIALIZE THE MIN-HEAP ---\n",
        "    # The min-heap is the central control structure that will coordinate all the posting list iterators.\n",
        "    # It will store tuples of (current_docid, posting_list_index)\n",
        "    # It is sorted by docid, so the root always contains the next smallest docid to process\n",
        "    min_heap = []\n",
        "    for i, posting in enumerate(postings):\n",
        "        if not posting.is_end_list():\n",
        "            # Add the first docid from each posting list to the heap (posting lists are already sorted)\n",
        "            heapq.heappush(min_heap, (posting.docid(), i))\n",
        "\n",
        "    # --- 3. MAIN DAAT PROCESSING LOOP ---\n",
        "    # The loop continues as long as there are documents left to process in the heap\n",
        "    while min_heap:\n",
        "        # Get the smallest current docid from the top of the heap without removing it\n",
        "        # This is the next document we need to score\n",
        "        min_docid = min_heap[0][0]\n",
        "        total_score = 0.0\n",
        "\n",
        "        # --- 4. SCORE CALCULATION ---\n",
        "        # This inner loop collects scores from all posting lists that contain `min_docid`\n",
        "        while min_heap and min_heap[0][0] == min_docid:\n",
        "            # Pop the item from the heap\n",
        "            docid, posting_idx = heapq.heappop(min_heap)\n",
        "\n",
        "            # Add this term's contribution to the document's total score\n",
        "            total_score += postings[posting_idx].score(scoring_method)\n",
        "\n",
        "            # Advance this posting list's iterator to its next docid\n",
        "            postings[posting_idx].next()\n",
        "\n",
        "            # If the posting list is not exhausted, push its new state (new_docid, index) back\n",
        "            if not postings[posting_idx].is_end_list():\n",
        "                heapq.heappush(min_heap, (postings[posting_idx].docid(), posting_idx))\n",
        "\n",
        "        # --- 5. UPDATE TOP-K RESULTS ---\n",
        "        # Attempt to insert the fully scored document into our results queue\n",
        "        # The TopQueue will handle the logic of whether it's good enough to keep\n",
        "        top_queue.insert(min_docid, total_score)\n",
        "\n",
        "    # Once all documents are processed, return the final sorted list of top-k results\n",
        "    return top_queue.get_top_k(sorted_desc=True)"
      ]
    },
    {
      "cell_type": "markdown",
      "id": "a35fa963",
      "metadata": {
        "id": "a35fa963",
        "papermill": {
          "duration": 0.038328,
          "end_time": "2025-08-27T16:00:16.191076",
          "exception": false,
          "start_time": "2025-08-27T16:00:16.152748",
          "status": "completed"
        },
        "tags": []
      },
      "source": [
        "# 4. Experiments and Evaluation\n",
        "\n",
        "This section details the systematic evaluation of our Information Retrieval system. To ensure our results are meaningful and comparable, we adopt the **Cranfield paradigm**, the standard methodology for evaluating IR systems. This requires a test collection consisting of three components:\n",
        "\n",
        "1.  A **document collection** (the 8.8M MSMARCO passages we indexed in Section 2).\n",
        "2.  A set of **topics** or queries that represent users' information needs.\n",
        "3.  A set of **relevance judgements (qrels)**, which are assessments of which documents are relevant to which queries.\n",
        "\n",
        "By running our system's queries and comparing the output to the ground-truth qrels, we can quantitatively measure its performance.\n",
        "\n",
        "We will evaluate our custom-built system against a strong baseline from the PyTerrier framework to contextualise its performance."
      ]
    },
    {
      "cell_type": "markdown",
      "id": "78606ba5",
      "metadata": {
        "id": "78606ba5",
        "papermill": {
          "duration": 0.048903,
          "end_time": "2025-08-27T16:00:16.287647",
          "exception": false,
          "start_time": "2025-08-27T16:00:16.238744",
          "status": "completed"
        },
        "tags": []
      },
      "source": [
        "## 4.1. Test Collection and Metrics"
      ]
    },
    {
      "cell_type": "markdown",
      "id": "3f62f04d",
      "metadata": {
        "id": "3f62f04d",
        "papermill": {
          "duration": 0.034774,
          "end_time": "2025-08-27T16:00:16.359245",
          "exception": false,
          "start_time": "2025-08-27T16:00:16.324471",
          "status": "completed"
        },
        "tags": []
      },
      "source": [
        "### 4.1.1. The TREC DL 2020 Test Collection\n",
        "\n",
        "For our evaluation, we use the `msmarco-passage/trec-dl-2020` test collection. This is a standard benchmark from the TREC (Text REtrieval Conference) Deep Learning track and contains:\n",
        "- **Queries:** A set of 200 queries used in the 2020 competition.\n",
        "- **Relevance Judgements (Qrels):** A file containing query-document pairs with graded relevance scores from 0 (Irrelevant) to 3 (Perfectly Relevant).\n",
        "\n",
        "We load these components below."
      ]
    },
    {
      "cell_type": "code",
      "execution_count": null,
      "id": "d3b5f960",
      "metadata": {
        "execution": {
          "iopub.execute_input": "2025-08-27T16:00:16.432054Z",
          "iopub.status.busy": "2025-08-27T16:00:16.431762Z",
          "iopub.status.idle": "2025-08-27T16:00:16.737368Z",
          "shell.execute_reply": "2025-08-27T16:00:16.736118Z"
        },
        "id": "d3b5f960",
        "outputId": "084678e1-fc79-4030-ff50-38fc40ceea8d",
        "papermill": {
          "duration": 0.343955,
          "end_time": "2025-08-27T16:00:16.738871",
          "exception": false,
          "start_time": "2025-08-27T16:00:16.394916",
          "status": "completed"
        },
        "tags": []
      },
      "outputs": [
        {
          "name": "stderr",
          "output_type": "stream",
          "text": [
            "[INFO] Please confirm you agree to the MSMARCO data usage agreement found at <http://www.msmarco.org/dataset.aspx>\n",
            "[INFO] [starting] https://trec.nist.gov/data/deep/2020qrels-pass.txt\n",
            "[INFO] [finished] https://trec.nist.gov/data/deep/2020qrels-pass.txt: [00:00] [219kB] [5.74MB/s]\n",
            "                                                                              "
          ]
        },
        {
          "name": "stdout",
          "output_type": "stream",
          "text": [
            "Loaded 11386 relevance assessments for evaluation.\n"
          ]
        },
        {
          "name": "stderr",
          "output_type": "stream",
          "text": [
            "\r"
          ]
        }
      ],
      "source": [
        "# Use the ir_datasets library to easily load standard test collections.\n",
        "# \"msmarco-passage/trec-dl-2020\" is the official identifier for the dataset.\n",
        "dataset = ir_datasets.load(\"msmarco-passage/trec-dl-2020\")\n",
        "\n",
        "# dataset.qrels_iter() provides an efficient iterator over the relevance judgements (qrels).\n",
        "# We convert it to a list to load all assessments into memory for repeated use by the evaluator.\n",
        "qrels = list(dataset.qrels_iter())\n",
        "\n",
        "print(f\"Loaded {len(qrels)} relevance assessments for evaluation.\")"
      ]
    },
    {
      "cell_type": "markdown",
      "id": "6b82cd53",
      "metadata": {
        "id": "6b82cd53",
        "papermill": {
          "duration": 0.037201,
          "end_time": "2025-08-27T16:00:16.813686",
          "exception": false,
          "start_time": "2025-08-27T16:00:16.776485",
          "status": "completed"
        },
        "tags": []
      },
      "source": [
        "Let's inspect the structure of these relevance judgements. A \"qrel\" (query relevance) file provides the ground truth for our experiment. Each line maps a query ID to a Document Number (DocNo) and assigns a graded relevance score.\n",
        "\n",
        "For the `trec-dl-2020` dataset, the scores are:\n",
        "- **0:** Irrelevant\n",
        "- **1:** Related\n",
        "- **2:** Highly Relevant\n",
        "- **3:** Perfectly Relevant\n",
        "\n",
        "Our evaluation metrics will use these graded scores to assess the quality of our system's ranking."
      ]
    },
    {
      "cell_type": "code",
      "execution_count": null,
      "id": "af0232b6",
      "metadata": {
        "execution": {
          "iopub.execute_input": "2025-08-27T16:00:16.889431Z",
          "iopub.status.busy": "2025-08-27T16:00:16.888397Z",
          "iopub.status.idle": "2025-08-27T16:00:16.955975Z",
          "shell.execute_reply": "2025-08-27T16:00:16.955151Z"
        },
        "id": "af0232b6",
        "outputId": "3e0cf9e1-39d0-439d-cd96-638029d6906b",
        "papermill": {
          "duration": 0.107096,
          "end_time": "2025-08-27T16:00:16.957299",
          "exception": false,
          "start_time": "2025-08-27T16:00:16.850203",
          "status": "completed"
        },
        "tags": []
      },
      "outputs": [
        {
          "name": "stdout",
          "output_type": "stream",
          "text": [
            "Example relevance judgements (qrels):\n"
          ]
        },
        {
          "data": {
            "text/html": [
              "<div>\n",
              "<style scoped>\n",
              "    .dataframe tbody tr th:only-of-type {\n",
              "        vertical-align: middle;\n",
              "    }\n",
              "\n",
              "    .dataframe tbody tr th {\n",
              "        vertical-align: top;\n",
              "    }\n",
              "\n",
              "    .dataframe thead th {\n",
              "        text-align: right;\n",
              "    }\n",
              "</style>\n",
              "<table border=\"1\" class=\"dataframe\">\n",
              "  <thead>\n",
              "    <tr style=\"text-align: right;\">\n",
              "      <th></th>\n",
              "      <th>query_id</th>\n",
              "      <th>doc_id</th>\n",
              "      <th>relevance</th>\n",
              "    </tr>\n",
              "  </thead>\n",
              "  <tbody>\n",
              "    <tr>\n",
              "      <th>0</th>\n",
              "      <td>23849</td>\n",
              "      <td>1020327</td>\n",
              "      <td>2</td>\n",
              "    </tr>\n",
              "    <tr>\n",
              "      <th>1</th>\n",
              "      <td>23849</td>\n",
              "      <td>1034183</td>\n",
              "      <td>3</td>\n",
              "    </tr>\n",
              "    <tr>\n",
              "      <th>2</th>\n",
              "      <td>23849</td>\n",
              "      <td>1120730</td>\n",
              "      <td>0</td>\n",
              "    </tr>\n",
              "    <tr>\n",
              "      <th>3</th>\n",
              "      <td>23849</td>\n",
              "      <td>1139571</td>\n",
              "      <td>1</td>\n",
              "    </tr>\n",
              "    <tr>\n",
              "      <th>4</th>\n",
              "      <td>23849</td>\n",
              "      <td>1143724</td>\n",
              "      <td>0</td>\n",
              "    </tr>\n",
              "  </tbody>\n",
              "</table>\n",
              "</div>"
            ],
            "text/plain": [
              "  query_id   doc_id  relevance\n",
              "0    23849  1020327          2\n",
              "1    23849  1034183          3\n",
              "2    23849  1120730          0\n",
              "3    23849  1139571          1\n",
              "4    23849  1143724          0"
            ]
          },
          "execution_count": 16,
          "metadata": {},
          "output_type": "execute_result"
        }
      ],
      "source": [
        "# Display a few example qrels in a pandas DataFrame for clarity\n",
        "# We drop the 'iteration' column as it's not used in this context\n",
        "qrels_df = pd.DataFrame(qrels).drop(columns=['iteration'])\n",
        "\n",
        "print(\"Example relevance judgements (qrels):\")\n",
        "qrels_df.head()"
      ]
    },
    {
      "cell_type": "markdown",
      "id": "2d033765",
      "metadata": {
        "id": "2d033765"
      },
      "source": [
        "**Note:** The `ir_datasets` library, which we use to load the qrels, refers to the Document Number column as `doc_id`, but it should not be confused with the internal `docid` used in our inverted index. The `doc_id` in the qrels corresponds to the original string IDs from the MSMARCO collection, while our index uses integer `docid`s for efficiency. We will handle this mapping appropriately during evaluation."
      ]
    },
    {
      "cell_type": "markdown",
      "id": "66fa0f45",
      "metadata": {
        "id": "66fa0f45",
        "papermill": {
          "duration": 0.036012,
          "end_time": "2025-08-27T16:00:17.029967",
          "exception": false,
          "start_time": "2025-08-27T16:00:16.993955",
          "status": "completed"
        },
        "tags": []
      },
      "source": [
        "### 4.1.2. Evaluation Metrics\n",
        "\n",
        "We use a suite of standard IR metrics to provide a comprehensive view of performance. The official metrics for the TREC Deep Learning track are nDCG@10, RR(rel=2) and AP(rel=2) ([source](https://ir-datasets.com/msmarco-passage.html)). We include the following:\n",
        "\n",
        "- **nDCG@10 (Normalised Discounted Cumulative Gain at 10):** Measures the quality of the top 10 ranked results, taking into account the position and graded relevance of each document.\n",
        "- **AP (Average Precision):** A measure of ranking quality for a single query. The final score reported for our entire test collection is the Mean Average Precision (MAP), which is the mean of the AP scores across all queries. For this track, we consider documents with a relevance score of 2 or higher to be relevant (`AP(rel=2)`).\n",
        "- **RR (Reciprocal Rank):** Measures the rank of the *first* relevant document found. Also evaluated with a relevance threshold of 2 (`RR(rel=2)`).\n",
        "- **P@10 (Precision at 10):** The fraction of relevant documents among the top 10 results.\n",
        "- **Judged@10:** The proportion of documents in the top 10 for which a relevance judgement exists. This helps verify that the evaluation is based on a solid foundation of assessed documents.\n",
        "- **Recall@10:** The fraction of all relevant documents that appear in the top 10 results. Complements precision by measuring retrieval completeness. Also evaluated with a relevance threshold of 2 (`Recall@10(rel=2)`)."
      ]
    },
    {
      "cell_type": "code",
      "execution_count": null,
      "id": "ae1c75d5",
      "metadata": {
        "execution": {
          "iopub.execute_input": "2025-08-27T16:00:17.104608Z",
          "iopub.status.busy": "2025-08-27T16:00:17.104277Z",
          "iopub.status.idle": "2025-08-27T16:00:17.136800Z",
          "shell.execute_reply": "2025-08-27T16:00:17.135948Z"
        },
        "id": "ae1c75d5",
        "outputId": "381bc53e-b6ff-4f2c-a7df-9b8361285042",
        "papermill": {
          "duration": 0.070921,
          "end_time": "2025-08-27T16:00:17.138156",
          "exception": false,
          "start_time": "2025-08-27T16:00:17.067235",
          "status": "completed"
        },
        "tags": []
      },
      "outputs": [
        {
          "name": "stdout",
          "output_type": "stream",
          "text": [
            "Evaluation framework configured with the following metrics:\n",
            "  - nDCG@10\n",
            "  - AP(rel=2)\n",
            "  - RR(rel=2)\n",
            "  - P(rel=2)@10\n",
            "  - Judged@10\n",
            "  - R(rel=2)@10\n"
          ]
        }
      ],
      "source": [
        "# Create an evaluator object from ir_measures\n",
        "# It can be reused for fast and consistent evaluation of multiple runs.\n",
        "eval_metrics = [\n",
        "    nDCG@10,\n",
        "    AP(rel=2),\n",
        "    RR(rel=2),\n",
        "    P(rel=2)@10,\n",
        "    Judged@10,\n",
        "    Recall(rel=2)@10\n",
        "]\n",
        "\n",
        "# Create a reusable evaluator object from the metrics and relevance judgements (qrels).\n",
        "# The ir_measures.evaluator function pre-processes the qrels and sets up the calculation logic\n",
        "evaluator = ir_measures.evaluator(eval_metrics, qrels)\n",
        "\n",
        "print(\"Evaluation framework configured with the following metrics:\")\n",
        "for metric in eval_metrics:\n",
        "    print(f\"  - {metric}\")"
      ]
    },
    {
      "cell_type": "markdown",
      "id": "2262d3bb",
      "metadata": {
        "id": "2262d3bb",
        "papermill": {
          "duration": 0.036065,
          "end_time": "2025-08-27T16:00:17.211112",
          "exception": false,
          "start_time": "2025-08-27T16:00:17.175047",
          "status": "completed"
        },
        "tags": []
      },
      "source": [
        "## 4.2. Evaluation Methodology\n",
        "\n",
        "Our evaluation is performed **offline**. The process for each system configuration (e.g. our custom BM25, the PyTerrier baseline) is as follows:\n",
        "\n",
        "1.  For each of the 200 queries in the test set, the system retrieves and ranks the top 1000 most relevant passages from the entire 8.8M document collection.\n",
        "2.  The results are saved to a **run file** in the standard TREC format (`query_id Q0 doc_id rank score run_name`).\n",
        "3.  This run file, which represents the system's complete output, is then compared against the ground-truth relevance judgements (qrels) using the `ir_measures` library to compute the metrics defined above.\n",
        "\n",
        "This standardized approach ensures that our results are reproducible and can be fairly compared against both our own system variants and external baselines like PyTerrier."
      ]
    },
    {
      "cell_type": "markdown",
      "id": "73821444",
      "metadata": {
        "id": "73821444",
        "papermill": {
          "duration": 0.036602,
          "end_time": "2025-08-27T16:00:17.284870",
          "exception": false,
          "start_time": "2025-08-27T16:00:17.248268",
          "status": "completed"
        },
        "tags": []
      },
      "source": [
        "**Evaluation Helper Functions**\n",
        "\n",
        "To streamline the analysis, we define two helper functions. `evaluate_run` calculates per-query scores, which are essential for conducting statistical tests. `compare_metrics` takes the per-query scores from two different systems and performs a Wilcoxon signed-rank test to determine if the observed performance differences are statistically significant."
      ]
    },
    {
      "cell_type": "code",
      "execution_count": null,
      "id": "3125ddf4",
      "metadata": {
        "execution": {
          "iopub.execute_input": "2025-08-27T16:00:17.359061Z",
          "iopub.status.busy": "2025-08-27T16:00:17.358750Z",
          "iopub.status.idle": "2025-08-27T16:00:17.367962Z",
          "shell.execute_reply": "2025-08-27T16:00:17.367175Z"
        },
        "id": "3125ddf4",
        "papermill": {
          "duration": 0.048351,
          "end_time": "2025-08-27T16:00:17.369235",
          "exception": false,
          "start_time": "2025-08-27T16:00:17.320884",
          "status": "completed"
        },
        "tags": []
      },
      "outputs": [],
      "source": [
        "# --- Helper Function for Per-Query Evaluation ---\n",
        "# This function takes a run file and calculates performance metrics for each query individually.\n",
        "# The resulting DataFrame is required for performing statistical significance tests.\n",
        "def evaluate_run(evaluator, run_file):\n",
        "    # Use the evaluator's `iter_calc` method, which efficiently yields per-query metric objects.\n",
        "    # This is distinct from `calc_aggregate`, which would only return a single overall score.\n",
        "    scores = evaluator.iter_calc(run_file)\n",
        "\n",
        "    # Unpack each metric object into a list [query_id, metric_name, value] for DataFrame creation.\n",
        "    # str(metric.measure) ensures the metric name is stored as a clean string (e.g., 'nDCG@10').\n",
        "    results = []\n",
        "    for metric in scores:\n",
        "        results.append([metric.query_id, str(metric.measure), metric.value])\n",
        "\n",
        "    # Create a Pandas DataFrame from the list of results for easy manipulation and analysis.\n",
        "    df_metrics = pd.DataFrame(results, columns=['QueryID', 'Measure', 'Value'])\n",
        "\n",
        "    return df_metrics\n",
        "\n",
        "# --- Helper Function for Statistical Significance Testing ---\n",
        "# Compares the per-query performance of two systems using the Wilcoxon signed-rank test.\n",
        "# This helps determine if an observed difference in aggregate scores is statistically meaningful.\n",
        "def compare_metrics(df1, df2, scores, threshold=0.05):\n",
        "    # Iterate through each unique metric (e.g., 'nDCG@10', 'AP(rel=2)') to test them individually.\n",
        "    metrics = df1['Measure'].unique()\n",
        "\n",
        "    for metric in metrics:\n",
        "        # Extract the performance values for the current metric for both systems.\n",
        "        # This creates two paired lists, where the i-th element in each is the score for the same query.\n",
        "        df1_values = df1[df1['Measure'] == metric]['Value']\n",
        "        df2_values = df2[df2['Measure'] == metric]['Value']\n",
        "\n",
        "        # Perform the Wilcoxon signed-rank test. This is a non-parametric test suitable for\n",
        "        # paired samples, as we are comparing the systems' performance on the same set of queries.\n",
        "        try:\n",
        "            w_stat, p_value = st.wilcoxon(df1_values, df2_values)\n",
        "        except ValueError:\n",
        "            # A ValueError can occur if the two sets of scores are identical. We handle this gracefully.\n",
        "            print(f\"\\nCould not perform Wilcoxon test for {metric} (results are likely identical).\")\n",
        "            continue\n",
        "\n",
        "        # --- Output and Interpretation ---\n",
        "        # Print a formatted summary of the test results.\n",
        "        print(\"\\n\" + \"=\" * 80)\n",
        "        print(f\"*** Wilcoxon Test for {metric} ***\")\n",
        "        print(f\"Comparing {scores[0]} vs {scores[1]}\")\n",
        "        print(f\"Statistic: {w_stat:.4f}, P-value: {p_value:.4f}\")\n",
        "        print(\"-\" * 80)\n",
        "\n",
        "        # Interpret the p-value against the significance level (alpha) to provide a clear conclusion.\n",
        "        if p_value > threshold:\n",
        "            print(f\"Result: The difference is NOT statistically significant (p > {threshold}).\")\n",
        "            print(\"We cannot reject the null hypothesis; the systems' performance is considered similar for this metric.\")\n",
        "        else:\n",
        "            print(f\"Result: The difference IS statistically significant (p <= {threshold}).\")\n",
        "            print(\"We can reject the null hypothesis; the systems' performance is considered different for this metric.\")\n",
        "        print(\"=\" * 80)"
      ]
    },
    {
      "cell_type": "markdown",
      "id": "f1039596",
      "metadata": {
        "id": "f1039596",
        "papermill": {
          "duration": 0.035973,
          "end_time": "2025-08-27T16:00:17.441900",
          "exception": false,
          "start_time": "2025-08-27T16:00:17.405927",
          "status": "completed"
        },
        "tags": []
      },
      "source": [
        "## 4.3. Evaluating Our Custom System\n",
        "\n",
        "We now run our DAAT-based system with the three different scoring functions: **BM25**, **TF-IDF**, and **TF**. For each function, we process all queries from the `trec-dl-2020` test set, save the results in the standard TREC run file format, and then compute the aggregate performance metrics."
      ]
    },
    {
      "cell_type": "code",
      "execution_count": null,
      "id": "167dd068",
      "metadata": {
        "execution": {
          "iopub.execute_input": "2025-08-27T16:00:17.515392Z",
          "iopub.status.busy": "2025-08-27T16:00:17.515087Z",
          "iopub.status.idle": "2025-08-27T16:00:17.524427Z",
          "shell.execute_reply": "2025-08-27T16:00:17.523580Z"
        },
        "id": "167dd068",
        "papermill": {
          "duration": 0.04807,
          "end_time": "2025-08-27T16:00:17.526152",
          "exception": false,
          "start_time": "2025-08-27T16:00:17.478082",
          "status": "completed"
        },
        "tags": []
      },
      "outputs": [],
      "source": [
        "# --- Experiment Execution Function ---\n",
        "# This function orchestrates a complete experimental run for a single system configuration.\n",
        "# It processes all queries in the dataset, times the execution, and saves the output\n",
        "# to a TREC-compliant run file for later evaluation.\n",
        "def run_experiment(scoring_method, inv_index, dataset, k=1000):\n",
        "    # --- 1. SETUP ---\n",
        "    # Create a unique name for this experimental run (e.g. \"DAAT_bm25\").\n",
        "    run_name = f\"DAAT_{scoring_method}\"\n",
        "    print(f\"Running experiment: {run_name}...\")\n",
        "\n",
        "    # Configure the InvertedIndex object to use the specified scoring method for this run.\n",
        "    inv_index.set_scoring_method(scoring_method)\n",
        "\n",
        "    # --- 2. QUERY PROCESSING ---\n",
        "    # This list will accumulate the results for all queries.\n",
        "    results_list = []\n",
        "\n",
        "    # Use tqdm to create a progress bar for monitoring the experiment.\n",
        "    query_iterator = tqdm(dataset.queries_iter(), desc=f\"Processing {run_name}\", total=dataset.queries_count())\n",
        "\n",
        "    # Start a timer to measure the total query processing time.\n",
        "    start_time = time.time()\n",
        "\n",
        "    # Iterate through every query in the test collection.\n",
        "    for query in query_iterator:\n",
        "        # Execute the search using our DAAT implementation.\n",
        "        results = query_processing_daat(query.text, inv_index, k=k)\n",
        "\n",
        "        # Format the results into the standard TREC format.\n",
        "        for rank, (score, doc_id) in enumerate(results, 1): # `start=1` for 1-based ranking.\n",
        "            # Map our internal integer doc_id back to its original MSMARCO string ID (DocNO)\n",
        "            original_doc_id = inv_index.doc[doc_id][0]\n",
        "            # Append the formatted result as a tuple.\n",
        "            results_list.append((query.query_id, \"Q0\", original_doc_id, rank, score, run_name))\n",
        "\n",
        "    end_time = time.time()\n",
        "    avg_time_ms = ((end_time - start_time) / dataset.queries_count()) * 1000\n",
        "    print(f\"-> {run_name} completed. Average query time: {avg_time_ms:.2f} ms/query.\")\n",
        "\n",
        "    # --- 3. SAVE RESULTS TO RUN FILE ---\n",
        "    # Convert the list of results into a Pandas DataFrame for easy handling. We use `docId` to match ir_datasets name, but that's DocNo\n",
        "    run_df = pd.DataFrame(results_list, columns=[\"query_id\", \"Q0\", \"doc_id\", \"rank\", \"score\", \"run_name\"])\n",
        "\n",
        "    # Define the output filename.\n",
        "    run_filename = f\"run_{run_name}.txt\"\n",
        "\n",
        "    # Save the DataFrame to a text file in the TREC format.\n",
        "    # Key parameters for TREC compliance:\n",
        "    #   sep='\\t': Use a tab as the column separator.\n",
        "    #   header=False: Do not write a header row.\n",
        "    #   index=False: Do not write the DataFrame index as a column.\n",
        "    run_df.to_csv(run_filename, sep='\\t', header=False, index=False)\n",
        "\n",
        "    print(f\"-> Run file saved to {run_filename}\")\n",
        "    return run_filename"
      ]
    },
    {
      "cell_type": "markdown",
      "id": "67b40b35",
      "metadata": {
        "id": "67b40b35",
        "papermill": {
          "duration": 0.036132,
          "end_time": "2025-08-27T16:00:17.801114",
          "exception": false,
          "start_time": "2025-08-27T16:00:17.764982",
          "status": "completed"
        },
        "tags": []
      },
      "source": [
        "Let's run the experiments for all the three scoring functions:"
      ]
    },
    {
      "cell_type": "code",
      "execution_count": null,
      "id": "0f842449",
      "metadata": {
        "colab": {
          "referenced_widgets": [
            "111c2f73927e4917bc86e955be5e625d",
            "1e1bdedfaa724e9cbfe2192582a6c078",
            "98e0c6afc2114a53a23df28403616bd8"
          ]
        },
        "execution": {
          "iopub.execute_input": "2025-08-27T16:00:17.876997Z",
          "iopub.status.busy": "2025-08-27T16:00:17.876215Z",
          "iopub.status.idle": "2025-08-27T16:09:20.214118Z",
          "shell.execute_reply": "2025-08-27T16:09:20.213113Z"
        },
        "id": "0f842449",
        "outputId": "51fd9e5a-13eb-4e01-8456-438b8a87bbac",
        "papermill": {
          "duration": 542.378415,
          "end_time": "2025-08-27T16:09:20.215863",
          "exception": false,
          "start_time": "2025-08-27T16:00:17.837448",
          "status": "completed"
        },
        "tags": []
      },
      "outputs": [
        {
          "name": "stdout",
          "output_type": "stream",
          "text": [
            "Running experiment: DAAT_bm25...\n"
          ]
        },
        {
          "data": {
            "application/vnd.jupyter.widget-view+json": {
              "model_id": "111c2f73927e4917bc86e955be5e625d",
              "version_major": 2,
              "version_minor": 0
            },
            "text/plain": [
              "Processing DAAT_bm25:   0%|          | 0/200 [00:00<?, ?it/s]"
            ]
          },
          "metadata": {},
          "output_type": "display_data"
        },
        {
          "name": "stderr",
          "output_type": "stream",
          "text": [
            "[INFO] [starting] https://msmarco.z22.web.core.windows.net/msmarcoranking/msmarco-test2020-queries.tsv.gz\n",
            "\n",
            "https://msmarco.z22.web.core.windows.net/msmarcoranking/msmarco-test2020-queries.tsv.gz: 0.0%| 0.00/4.13k [00:00<?, ?B/s]\u001b[A\n",
            "\u001b[A[INFO] [finished] https://msmarco.z22.web.core.windows.net/msmarcoranking/msmarco-test2020-queries.tsv.gz: [00:00] [4.13kB] [17.4MB/s]\n",
            "\n",
            "https://msmarco.z22.web.core.windows.net/msmarcoranking/msmarco-test2020-queries.tsv.gz: [00:00] [4.13kB] [1.49MB/s]\u001b[A\n",
            "                                                                                                                    \u001b[A"
          ]
        },
        {
          "name": "stdout",
          "output_type": "stream",
          "text": [
            "-> DAAT_bm25 completed. Average query time: 1088.49 ms/query.\n",
            "-> Run file saved to run_DAAT_bm25.txt\n",
            "Running experiment: DAAT_tfidf...\n"
          ]
        },
        {
          "data": {
            "application/vnd.jupyter.widget-view+json": {
              "model_id": "1e1bdedfaa724e9cbfe2192582a6c078",
              "version_major": 2,
              "version_minor": 0
            },
            "text/plain": [
              "Processing DAAT_tfidf:   0%|          | 0/200 [00:00<?, ?it/s]"
            ]
          },
          "metadata": {},
          "output_type": "display_data"
        },
        {
          "name": "stdout",
          "output_type": "stream",
          "text": [
            "-> DAAT_tfidf completed. Average query time: 835.99 ms/query.\n",
            "-> Run file saved to run_DAAT_tfidf.txt\n",
            "Running experiment: DAAT_tf...\n"
          ]
        },
        {
          "data": {
            "application/vnd.jupyter.widget-view+json": {
              "model_id": "98e0c6afc2114a53a23df28403616bd8",
              "version_major": 2,
              "version_minor": 0
            },
            "text/plain": [
              "Processing DAAT_tf:   0%|          | 0/200 [00:00<?, ?it/s]"
            ]
          },
          "metadata": {},
          "output_type": "display_data"
        },
        {
          "name": "stdout",
          "output_type": "stream",
          "text": [
            "-> DAAT_tf completed. Average query time: 771.47 ms/query.\n",
            "-> Run file saved to run_DAAT_tf.txt\n"
          ]
        }
      ],
      "source": [
        "# A dictionary to store the paths to the generated run files.\n",
        "run_files = {}\n",
        "scoring_methods_to_test = ['bm25', 'tfidf', 'tf']\n",
        "\n",
        "# Loop through each scoring method, run the experiment, and save the resulting filename.\n",
        "for method in scoring_methods_to_test:\n",
        "    run_files[f\"DAAT_{method}\"] = run_experiment(method, inv_index, dataset)"
      ]
    },
    {
      "cell_type": "markdown",
      "id": "8eab1184",
      "metadata": {
        "id": "8eab1184",
        "papermill": {
          "duration": 0.037689,
          "end_time": "2025-08-27T16:09:20.291741",
          "exception": false,
          "start_time": "2025-08-27T16:09:20.254052",
          "status": "completed"
        },
        "tags": []
      },
      "source": [
        "Let's inspect the format of the generated run files. They follow the standard TREC format, which is a tab-separated file with six columns: `query_id`, `Q0` (a literal required by the format), `doc_no`, `rank`, `score`, and `run_name`."
      ]
    },
    {
      "cell_type": "code",
      "execution_count": null,
      "id": "db33cfd4",
      "metadata": {
        "execution": {
          "iopub.execute_input": "2025-08-27T16:09:20.368352Z",
          "iopub.status.busy": "2025-08-27T16:09:20.368040Z",
          "iopub.status.idle": "2025-08-27T16:09:20.872390Z",
          "shell.execute_reply": "2025-08-27T16:09:20.871208Z"
        },
        "id": "db33cfd4",
        "outputId": "fa4e2c96-7230-4db4-f007-5db0e15bd646",
        "papermill": {
          "duration": 0.544684,
          "end_time": "2025-08-27T16:09:20.874100",
          "exception": false,
          "start_time": "2025-08-27T16:09:20.329416",
          "status": "completed"
        },
        "tags": []
      },
      "outputs": [
        {
          "name": "stdout",
          "output_type": "stream",
          "text": [
            "1030303\tQ0\t8726436\t1\t17.55674379986468\tDAAT_bm25\r\n",
            "1030303\tQ0\t8726433\t2\t14.009199240195464\tDAAT_bm25\r\n",
            "1030303\tQ0\t8726429\t3\t12.59129574456189\tDAAT_bm25\r\n",
            "1030303\tQ0\t8726435\t4\t12.59129574456189\tDAAT_bm25\r\n",
            "1030303\tQ0\t8726437\t5\t11.079764998247445\tDAAT_bm25\r\n"
          ]
        }
      ],
      "source": [
        "# Display the first 5 lines of the BM25 run file to show the TREC format\n",
        "!head -n 5 run_DAAT_bm25.txt"
      ]
    },
    {
      "cell_type": "markdown",
      "id": "6dff1be8",
      "metadata": {
        "id": "6dff1be8",
        "papermill": {
          "duration": 0.037508,
          "end_time": "2025-08-27T16:09:20.950085",
          "exception": false,
          "start_time": "2025-08-27T16:09:20.912577",
          "status": "completed"
        },
        "tags": []
      },
      "source": [
        "Each line represents a single retrieved document for a specific query and can be broken down as follows:\n",
        "\n",
        "- **Column 1 (Query ID):** The identifier for the query, e.g. `1030303`. All results for the same query share this ID.\n",
        "- **Column 2 (Q0 Constant):** A literal string `Q0`, which is a historical placeholder.\n",
        "- **Column 3 (Document No):** The unique identifier of the retrieved passage, e.g. `8726436`.\n",
        "- **Column 4 (Rank):** The position of the document in the ranked list for that query, starting from `1`.\n",
        "- **Column 5 (Score):** The relevance score calculated by our BM25 model. The results are sorted in descending order based on this score (e.g. the top result has a score of `17.55`).\n",
        "- **Column 6 (Run Name):** A unique name for the experiment, `DAAT_bm25`, which clearly identifies the system configuration that produced this result."
      ]
    },
    {
      "cell_type": "markdown",
      "id": "3dbf3353",
      "metadata": {
        "id": "3dbf3353",
        "papermill": {
          "duration": 0.037555,
          "end_time": "2025-08-27T16:09:21.025394",
          "exception": false,
          "start_time": "2025-08-27T16:09:20.987839",
          "status": "completed"
        },
        "tags": []
      },
      "source": [
        "Let’s now look at the aggregate evaluation metrics for each scoring function:"
      ]
    },
    {
      "cell_type": "code",
      "execution_count": null,
      "id": "e9d39423",
      "metadata": {
        "execution": {
          "iopub.execute_input": "2025-08-27T16:09:21.102965Z",
          "iopub.status.busy": "2025-08-27T16:09:21.102601Z",
          "iopub.status.idle": "2025-08-27T16:09:25.408019Z",
          "shell.execute_reply": "2025-08-27T16:09:25.407160Z"
        },
        "id": "e9d39423",
        "outputId": "001ef5f6-e7ed-42da-eeb2-ba4433316665",
        "papermill": {
          "duration": 4.346556,
          "end_time": "2025-08-27T16:09:25.409524",
          "exception": false,
          "start_time": "2025-08-27T16:09:21.062968",
          "status": "completed"
        },
        "tags": []
      },
      "outputs": [
        {
          "name": "stdout",
          "output_type": "stream",
          "text": [
            "Evaluating runs...\n",
            "  - Aggregating scores for DAAT_bm25\n",
            "  - Aggregating scores for DAAT_tfidf\n",
            "  - Aggregating scores for DAAT_tf\n",
            "\n",
            "Performance of Custom DAAT System with Different Scoring Functions:\n",
            "             DAAT_bm25  DAAT_tfidf  DAAT_tf\n",
            "nDCG@10         0.4885      0.3822   0.2742\n",
            "AP(rel=2)       0.2936      0.2210   0.1255\n",
            "RR(rel=2)       0.6351      0.5183   0.4150\n",
            "R(rel=2)@10     0.2506      0.1918   0.1383\n",
            "P(rel=2)@10     0.3444      0.2778   0.2000\n",
            "Judged@10       0.9796      0.8870   0.6222\n"
          ]
        }
      ],
      "source": [
        "# Load the generated run files using ir_measures\n",
        "runs = {name: list(ir_measures.read_trec_run(path)) for name, path in run_files.items()}\n",
        "\n",
        "print(\"Evaluating runs...\")\n",
        "\n",
        "# dictionary for the final aggregated results for each system\n",
        "aggregated_results = {}\n",
        "\n",
        "# Iterate through each loaded run to calculate its aggregate performance.\n",
        "for name, run_data in runs.items():\n",
        "    print(f\"  - Aggregating scores for {name}\")\n",
        "    # Use the `calc_aggregate` method of our pre-configured evaluator.\n",
        "    # This computes the average score for each metric across all queries.\n",
        "    aggregated_results[name] = evaluator.calc_aggregate(run_data)\n",
        "\n",
        "# Convert the dictionary of results into a Pandas DataFrame for tabular presentation\n",
        "results_df = pd.DataFrame(aggregated_results)\n",
        "\n",
        "print(\"\\nPerformance of Custom DAAT System with Different Scoring Functions:\")\n",
        "print(results_df.round(4))"
      ]
    },
    {
      "cell_type": "markdown",
      "id": "27c74f96",
      "metadata": {
        "id": "27c74f96",
        "papermill": {
          "duration": 0.037636,
          "end_time": "2025-08-27T16:09:25.485365",
          "exception": false,
          "start_time": "2025-08-27T16:09:25.447729",
          "status": "completed"
        },
        "tags": []
      },
      "source": [
        "**Analysis of Results**:\n",
        "\n",
        "The results clearly demonstrate the effectiveness of different scoring components. There is a clear progression in performance from the simple TF baseline, to TF-IDF which accounts for term rarity, and finally to BM25, which adds document length normalization and term frequency saturation.\n",
        "\n",
        "As expected, BM25 significantly outperforms both TF-IDF and TF across all metrics. Its more sophisticated handling of key ranking factors proves crucial for high-quality retrieval. The query processing times show that BM25 is slightly more computationally intensive, but the dramatic improvement in effectiveness justifies the cost. **Given its superior performance, we will use our `DAAT_bm25` implementation as the primary system for the final comparison against the PyTerrier baseline.**"
      ]
    },
    {
      "cell_type": "markdown",
      "id": "78548d8d",
      "metadata": {
        "id": "78548d8d",
        "papermill": {
          "duration": 0.038729,
          "end_time": "2025-08-27T16:09:25.562640",
          "exception": false,
          "start_time": "2025-08-27T16:09:25.523911",
          "status": "completed"
        },
        "tags": []
      },
      "source": [
        "## 4.4. Establishing a Baseline with PyTerrier\n",
        "\n",
        "To properly assess our system's performance, we compare it to a strong, established baseline: PyTerrier. We use PyTerrier to index the same MSMARCO collection with its standard configuration (stemming and stopword removal) and run the same set of queries using its native BM25 implementation. This provides a fair and challenging benchmark for our custom system."
      ]
    },
    {
      "cell_type": "code",
      "execution_count": null,
      "id": "5a23eb5b",
      "metadata": {
        "execution": {
          "iopub.execute_input": "2025-08-27T16:09:25.640859Z",
          "iopub.status.busy": "2025-08-27T16:09:25.640500Z",
          "iopub.status.idle": "2025-08-27T16:10:53.842126Z",
          "shell.execute_reply": "2025-08-27T16:10:53.840995Z"
        },
        "id": "5a23eb5b",
        "outputId": "7a405607-cd85-487f-aebc-4262c6e8f5f6",
        "papermill": {
          "duration": 88.24293,
          "end_time": "2025-08-27T16:10:53.843490",
          "exception": false,
          "start_time": "2025-08-27T16:09:25.600560",
          "status": "completed"
        },
        "tags": []
      },
      "outputs": [
        {
          "name": "stdout",
          "output_type": "stream",
          "text": [
            "terrier-assemblies 5.11 jar-with-dependencies not found, downloading to /root/.pyterrier...\n"
          ]
        },
        {
          "name": "stderr",
          "output_type": "stream",
          "text": [
            "https://repo1.maven.org/maven2/org/terrier/terrier-assemblies/5.11/terrier-assemblies-5.11-jar-with-dependencies.jar: 100%|██████████| 99.6M/99.6M [00:00<00:00, 140MB/s]\n"
          ]
        },
        {
          "name": "stdout",
          "output_type": "stream",
          "text": [
            "Done\n",
            "terrier-python-helper 0.0.8 jar not found, downloading to /root/.pyterrier...\n"
          ]
        },
        {
          "name": "stderr",
          "output_type": "stream",
          "text": [
            "https://repo1.maven.org/maven2/org/terrier/terrier-python-helper/0.0.8/terrier-python-helper-0.0.8.jar: 100%|██████████| 36.6k/36.6k [00:00<00:00, 15.2MB/s]"
          ]
        },
        {
          "name": "stdout",
          "output_type": "stream",
          "text": [
            "Done\n"
          ]
        },
        {
          "name": "stderr",
          "output_type": "stream",
          "text": [
            "\n",
            "Java started and loaded: pyterrier.java, pyterrier.terrier.java [version=5.11 (build: craig.macdonald 2025-01-13 21:29), helper_version=0.0.8]\n",
            "/tmp/ipykernel_13/3198298481.py:3: DeprecationWarning: Call to deprecated method pt.init(). Deprecated since version 0.11.0.\n",
            "java is now started automatically with default settings. To force initialisation early, run:\n",
            "pt.java.init() # optional, forces java initialisation\n",
            "  pt.init()\n"
          ]
        },
        {
          "name": "stdout",
          "output_type": "stream",
          "text": [
            "Loading PyTerrier's pre-built msmarco_passage index...\n",
            "Downloading msmarco_passage index to /root/.pyterrier/corpora/msmarco_passage/index/terrier_stemmed\n"
          ]
        },
        {
          "name": "stderr",
          "output_type": "stream",
          "text": [
            "data.direct.bf: 100%|██████████| 486M/486M [00:20<00:00, 24.9MiB/s]\n",
            "data.document.fsarrayfile: 100%|██████████| 177M/177M [00:07<00:00, 23.8MiB/s]\n",
            "data.inverted.bf: 100%|██████████| 377M/377M [00:13<00:00, 28.8MiB/s]\n",
            "data.lexicon.fsomapfile: 100%|██████████| 100M/100M [00:04<00:00, 24.3MiB/s] \n",
            "data.lexicon.fsomaphash: 100%|██████████| 0.99k/0.99k [00:00<00:00, 4.92MiB/s]\n",
            "data.lexicon.fsomapid: 100%|██████████| 4.47M/4.47M [00:00<00:00, 5.38MiB/s]\n",
            "data.meta.idx: 100%|██████████| 67.5M/67.5M [00:03<00:00, 20.8MiB/s]\n",
            "data.meta.zdata: 100%|██████████| 193M/193M [00:09<00:00, 20.5MiB/s]\n",
            "data.properties: 100%|██████████| 4.29k/4.29k [00:00<00:00, 14.6MiB/s]\n",
            "md5sums: 100%|██████████| 480/480 [00:00<00:00, 1.97MiB/s]\n"
          ]
        },
        {
          "name": "stdout",
          "output_type": "stream",
          "text": [
            "Index loaded.\n",
            "Loading topics from PyTerrier's dataset interface...\n",
            "Downloading msmarco_passage topics to /root/.pyterrier/corpora/msmarco_passage/msmarco-test2020-queries.tsv.gz\n"
          ]
        },
        {
          "name": "stderr",
          "output_type": "stream",
          "text": [
            "msmarco-test2020-queries.tsv.gz: 100%|██████████| 4.03k/4.03k [00:00<00:00, 9.86MiB/s]\n"
          ]
        },
        {
          "name": "stdout",
          "output_type": "stream",
          "text": [
            "Loaded 200 topics from PyTerrier.\n",
            "Running 200 queries with PyTerrier...\n",
            "PyTerrier run complete.\n",
            "-> PyTerrier completed. Average query time: 79.69 ms/query.\n",
            "PyTerrier run file saved to run_pyterrier_bm25.txt\n"
          ]
        }
      ],
      "source": [
        "# 1. Initialize PyTerrier's Java Backend\n",
        "if not pt.java.started():\n",
        "    pt.init()\n",
        "\n",
        "# 2. Load a Pre-built Index\n",
        "print(\"Loading PyTerrier's pre-built msmarco_passage index...\")\n",
        "pt_bm25 = pt.terrier.Retriever.from_dataset(\n",
        "    'msmarco_passage', # dataset identifier\n",
        "    'terrier_stemmed', # specific index variant with standard stemming\n",
        "    wmodel='BM25' # ranking model to use\n",
        ")\n",
        "print(\"Index loaded.\")\n",
        "\n",
        "# 3. Load the Official Test Queries\n",
        "print(\"Loading topics from PyTerrier's dataset interface...\")\n",
        "# We use PyTerrier's dataset helper to load the official TREC DL 2020 test queries to avoid problems with formatting\n",
        "passages = pt.datasets.get_dataset('trec-deep-learning-passages')\n",
        "topics_df = passages.get_topics('test-2020')\n",
        "print(f\"Loaded {len(topics_df)} topics from PyTerrier.\")\n",
        "\n",
        "# 4. Run the pre-processed queries through the PyTerrier retriever (with timing, the same way we timed our own system)\n",
        "print(f\"Running {len(topics_df)} queries with PyTerrier...\")\n",
        "start_time = time.time()\n",
        "pyterrier_results = pt_bm25.transform(topics_df) # takes a DataFrame of queries and returns a DataFrame of results\n",
        "end_time = time.time()\n",
        "print(\"PyTerrier run complete.\")\n",
        "\n",
        "# Calculate and store PyTerrier's average query time\n",
        "pyterrier_total_time_ms = (end_time - start_time) * 1000\n",
        "pyterrier_mrt_ms = pyterrier_total_time_ms / len(topics_df)\n",
        "print(f\"-> PyTerrier completed. Average query time: {pyterrier_mrt_ms:.2f} ms/query.\")\n",
        "\n",
        "# 5. Format and Save Results to a TREC Run File\n",
        "pyterrier_run_path = 'run_pyterrier_bm25.txt'\n",
        "with open(pyterrier_run_path, 'w') as f:\n",
        "    for row in pyterrier_results.itertuples(index=False, name=None):\n",
        "        f.write(f\"{row[0]}\\tQ0\\t{row[2]}\\t{row[3]}\\t{row[4]}\\tpyterrier_bm25\\n\")\n",
        "print(f\"PyTerrier run file saved to {pyterrier_run_path}\")\n",
        "\n",
        "# 6. Add the PyTerrier run to your runs dictionary\n",
        "run_files['PyTerrier_BM25'] = pyterrier_run_path"
      ]
    },
    {
      "cell_type": "markdown",
      "id": "5fda4c79",
      "metadata": {
        "id": "5fda4c79",
        "papermill": {
          "duration": 0.06322,
          "end_time": "2025-08-27T16:10:53.972649",
          "exception": false,
          "start_time": "2025-08-27T16:10:53.909429",
          "status": "completed"
        },
        "tags": []
      },
      "source": [
        "## 4.5. Comparative Evaluation\n",
        "\n",
        "Here, we conduct the final comparison, evaluating our three custom systems against the PyTerrier baseline using the same set of metrics."
      ]
    },
    {
      "cell_type": "code",
      "execution_count": null,
      "id": "9b685086",
      "metadata": {
        "execution": {
          "iopub.execute_input": "2025-08-27T16:10:54.100667Z",
          "iopub.status.busy": "2025-08-27T16:10:54.100089Z",
          "iopub.status.idle": "2025-08-27T16:10:59.603336Z",
          "shell.execute_reply": "2025-08-27T16:10:59.602374Z"
        },
        "id": "9b685086",
        "outputId": "dc84b9f6-419a-4352-ff05-7b19e1e4b6d8",
        "papermill": {
          "duration": 5.56879,
          "end_time": "2025-08-27T16:10:59.604732",
          "exception": false,
          "start_time": "2025-08-27T16:10:54.035942",
          "status": "completed"
        },
        "tags": []
      },
      "outputs": [
        {
          "name": "stdout",
          "output_type": "stream",
          "text": [
            "Evaluating all runs for final comparison...\n",
            "  - Aggregating scores for DAAT_bm25\n",
            "  - Aggregating scores for DAAT_tfidf\n",
            "  - Aggregating scores for DAAT_tf\n",
            "  - Aggregating scores for PyTerrier_BM25\n",
            "\n",
            "Final Comparative Evaluation:\n",
            "             PyTerrier_BM25  DAAT_bm25  DAAT_tfidf  DAAT_tf\n",
            "nDCG@10              0.4936     0.4885      0.3822   0.2742\n",
            "AP(rel=2)            0.2930     0.2936      0.2210   0.1255\n",
            "RR(rel=2)            0.6187     0.6351      0.5183   0.4150\n",
            "R(rel=2)@10          0.2604     0.2506      0.1918   0.1383\n",
            "P(rel=2)@10          0.3481     0.3444      0.2778   0.2000\n",
            "Judged@10            0.9722     0.9796      0.8870   0.6222\n"
          ]
        }
      ],
      "source": [
        "# As before, we load the data from each run file into a dictionary.\n",
        "# This time, the `run_files` dictionary now includes the PyTerrier baseline run.\n",
        "all_runs = {name: list(ir_measures.read_trec_run(path)) for name, path in run_files.items()}\n",
        "\n",
        "# We repeat the aggregation process on this complete set of runs\n",
        "print(\"Evaluating all runs for final comparison...\")\n",
        "final_aggregated_results = {}\n",
        "for name, run_data in all_runs.items():\n",
        "    print(f\"  - Aggregating scores for {name}\")\n",
        "    final_aggregated_results[name] = evaluator.calc_aggregate(run_data)\n",
        "\n",
        "# Create the final comparison DataFrame from the aggregated results.\n",
        "final_comparison_df = pd.DataFrame(final_aggregated_results)\n",
        "\n",
        "# --- DataFrame Formatting for Presentation ---\n",
        "\n",
        "# The DataFrame index created by ir_measures consists of metric objects, not strings\n",
        "final_comparison_df.index = [str(metric) for metric in final_comparison_df.index]\n",
        "\n",
        "# sort the columns (systems) based on their performance on a key metric (nDCG@10) in descending order\n",
        "metric_key_to_sort_by = str(nDCG@10)\n",
        "sorted_columns = final_comparison_df.loc[metric_key_to_sort_by].sort_values(ascending=False).index\n",
        "final_comparison_df = final_comparison_df[sorted_columns]\n",
        "\n",
        "# Display the final, sorted comparison table.\n",
        "print(\"\\nFinal Comparative Evaluation:\")\n",
        "print(final_comparison_df.round(4))"
      ]
    },
    {
      "cell_type": "markdown",
      "id": "b968ee5b",
      "metadata": {
        "id": "b968ee5b",
        "papermill": {
          "duration": 0.064137,
          "end_time": "2025-08-27T16:10:59.735500",
          "exception": false,
          "start_time": "2025-08-27T16:10:59.671363",
          "status": "completed"
        },
        "tags": []
      },
      "source": [
        "**Analysis of Results**:\n",
        "\n",
        "The comparative evaluation shows that our custom `DAAT_bm25` implementation performs well. Its scores are not only the best among our own systems but are also directly competitive with the PyTerrier framework. On the primary metric of nDCG@10, our system achieves a score of 0.4956, slightly edging out PyTerrier's 0.4936."
      ]
    },
    {
      "cell_type": "markdown",
      "id": "4954d043",
      "metadata": {
        "id": "4954d043",
        "papermill": {
          "duration": 0.065377,
          "end_time": "2025-08-27T16:10:59.867831",
          "exception": false,
          "start_time": "2025-08-27T16:10:59.802454",
          "status": "completed"
        },
        "tags": []
      },
      "source": [
        "**A Note on Query Processing Speed:**\n",
        "\n",
        "The code cell in Section 4.4. also highlights PyTerrier's superior query time (85.87 ms/query). The primary objective of this project was educational – to implement a complete IR pipeline from first principles – rather than to engineer a system optimised for speed. A direct comparison with PyTerrier in terms of query time was not the scope. Furthermore PyTerrier leverages the highly-optimised Java Virtual Machine (JVM), which provides significant performance advantages over a Python implementation. Nevertheless, the results clearly underscore that PyTerrier is much faster, reflecting the benefits of mature, production-grade IR frameworks."
      ]
    },
    {
      "cell_type": "markdown",
      "id": "0984c9ba",
      "metadata": {
        "id": "0984c9ba",
        "papermill": {
          "duration": 0.06606,
          "end_time": "2025-08-27T16:10:59.999448",
          "exception": false,
          "start_time": "2025-08-27T16:10:59.933388",
          "status": "completed"
        },
        "tags": []
      },
      "source": [
        "## 4.6. Statistical Significance Testing\n",
        "\n",
        "Aggregate scores show overall performance, but they do not confirm if the differences between systems are statistically significant. To verify this, we perform a paired Wilcoxon signed-rank test between our best system (DAAT_bm25) and the PyTerrier baseline, using the `compare_metrics` function defined earlier."
      ]
    },
    {
      "cell_type": "code",
      "execution_count": null,
      "id": "5e66f4ef",
      "metadata": {
        "execution": {
          "iopub.execute_input": "2025-08-27T16:11:00.131868Z",
          "iopub.status.busy": "2025-08-27T16:11:00.131572Z",
          "iopub.status.idle": "2025-08-27T16:11:00.741724Z",
          "shell.execute_reply": "2025-08-27T16:11:00.740892Z"
        },
        "id": "5e66f4ef",
        "outputId": "215ff441-4c0f-4663-d462-f04c2e795588",
        "papermill": {
          "duration": 0.678707,
          "end_time": "2025-08-27T16:11:00.743606",
          "exception": false,
          "start_time": "2025-08-27T16:11:00.064899",
          "status": "completed"
        },
        "tags": []
      },
      "outputs": [
        {
          "name": "stdout",
          "output_type": "stream",
          "text": [
            "\n",
            "--- Statistical Comparison: DAAT_bm25 vs. PyTerrier_BM25 ---\n",
            "\n",
            "================================================================================\n",
            "*** Wilcoxon Test for nDCG@10 ***\n",
            "Comparing DAAT_bm25 vs PyTerrier_BM25\n",
            "Statistic: 313.0000, P-value: 0.0833\n",
            "--------------------------------------------------------------------------------\n",
            "Result: The difference is NOT statistically significant (p > 0.05).\n",
            "We cannot reject the null hypothesis; the systems' performance is considered similar for this metric.\n",
            "================================================================================\n",
            "\n",
            "================================================================================\n",
            "*** Wilcoxon Test for AP(rel=2) ***\n",
            "Comparing DAAT_bm25 vs PyTerrier_BM25\n",
            "Statistic: 597.0000, P-value: 0.2942\n",
            "--------------------------------------------------------------------------------\n",
            "Result: The difference is NOT statistically significant (p > 0.05).\n",
            "We cannot reject the null hypothesis; the systems' performance is considered similar for this metric.\n",
            "================================================================================\n",
            "\n",
            "================================================================================\n",
            "*** Wilcoxon Test for RR(rel=2) ***\n",
            "Comparing DAAT_bm25 vs PyTerrier_BM25\n",
            "Statistic: 49.0000, P-value: 0.3256\n",
            "--------------------------------------------------------------------------------\n",
            "Result: The difference is NOT statistically significant (p > 0.05).\n",
            "We cannot reject the null hypothesis; the systems' performance is considered similar for this metric.\n",
            "================================================================================\n",
            "\n",
            "================================================================================\n",
            "*** Wilcoxon Test for P(rel=2)@10 ***\n",
            "Comparing DAAT_bm25 vs PyTerrier_BM25\n",
            "Statistic: 60.5000, P-value: 0.4375\n",
            "--------------------------------------------------------------------------------\n",
            "Result: The difference is NOT statistically significant (p > 0.05).\n",
            "We cannot reject the null hypothesis; the systems' performance is considered similar for this metric.\n",
            "================================================================================\n",
            "\n",
            "================================================================================\n",
            "*** Wilcoxon Test for R(rel=2)@10 ***\n",
            "Comparing DAAT_bm25 vs PyTerrier_BM25\n",
            "Statistic: 49.0000, P-value: 0.1930\n",
            "--------------------------------------------------------------------------------\n",
            "Result: The difference is NOT statistically significant (p > 0.05).\n",
            "We cannot reject the null hypothesis; the systems' performance is considered similar for this metric.\n",
            "================================================================================\n",
            "\n",
            "================================================================================\n",
            "*** Wilcoxon Test for Judged@10 ***\n",
            "Comparing DAAT_bm25 vs PyTerrier_BM25\n",
            "Statistic: 4.0000, P-value: 0.3363\n",
            "--------------------------------------------------------------------------------\n",
            "Result: The difference is NOT statistically significant (p > 0.05).\n",
            "We cannot reject the null hypothesis; the systems' performance is considered similar for this metric.\n",
            "================================================================================\n"
          ]
        },
        {
          "name": "stderr",
          "output_type": "stream",
          "text": [
            "/usr/local/lib/python3.11/dist-packages/scipy/stats/_wilcoxon.py:134: RuntimeWarning: invalid value encountered in greater\n",
            "  r_plus = np.sum((d > 0) * r, axis=-1)\n",
            "/usr/local/lib/python3.11/dist-packages/scipy/stats/_wilcoxon.py:135: RuntimeWarning: invalid value encountered in less\n",
            "  r_minus = np.sum((d < 0) * r, axis=-1)\n"
          ]
        }
      ],
      "source": [
        "# names of the two runs we want to compare\n",
        "our_best_run_name = \"DAAT_bm25\"\n",
        "baseline_run_name = \"PyTerrier_BM25\"\n",
        "\n",
        "if our_best_run_name in all_runs and baseline_run_name in all_runs:\n",
        "    # To perform the statistical test, we need per-query scores, not just aggregate scores.\n",
        "    # We use our `evaluate_run` helper function to generate these now\n",
        "    per_query_ours = evaluate_run(evaluator, all_runs[our_best_run_name])\n",
        "    per_query_pyterrier = evaluate_run(evaluator, all_runs[baseline_run_name])\n",
        "\n",
        "    print(f\"\\n--- Statistical Comparison: {our_best_run_name} vs. {baseline_run_name} ---\")\n",
        "\n",
        "    # Call our `compare_metrics` helper function to perform the Wilcoxon signed-rank test\n",
        "    # We use a standard significance level (alpha) of 0.05\n",
        "    compare_metrics(per_query_ours, per_query_pyterrier,\n",
        "                    scores=[our_best_run_name, baseline_run_name],\n",
        "                    threshold=0.05)\n",
        "else:\n",
        "    print(\"Could not perform statistical test: one or both required run files are missing.\")"
      ]
    },
    {
      "cell_type": "markdown",
      "id": "87f414cb",
      "metadata": {
        "id": "87f414cb",
        "papermill": {
          "duration": 0.064073,
          "end_time": "2025-08-27T16:11:00.873768",
          "exception": false,
          "start_time": "2025-08-27T16:11:00.809695",
          "status": "completed"
        },
        "tags": []
      },
      "source": [
        "**Analysis of Results**:\n",
        "\n",
        "The Wilcoxon test reveals p-values well above the standard 0.05 threshold for all metrics. This indicates that **there is no statistically significant difference** between our custom BM25 implementation and the PyTerrier baseline, on this collection. This validates that our BM25 algorithm is implemented correctly."
      ]
    },
    {
      "cell_type": "markdown",
      "id": "223fdbbe",
      "metadata": {
        "id": "223fdbbe",
        "papermill": {
          "duration": 0.064017,
          "end_time": "2025-08-27T16:11:01.001882",
          "exception": false,
          "start_time": "2025-08-27T16:11:00.937865",
          "status": "completed"
        },
        "tags": []
      },
      "source": [
        "**Visualising Performance Distributions**\n",
        "\n",
        "While the statistical test gives a definitive answer on significance, visualizing the per-query performance provides an intuitive understanding of how the systems compare. We can use boxplots and violin plots to see the distribution of scores across all queries. This helps reveal the consistency and spread of each system's performance.\n",
        "\n",
        "- **Boxplots** show the median, quartiles, and potential outliers.\n",
        "- **Violin plots** combine a boxplot with a density curve, giving a richer view of the distribution's shape.\n",
        "\n",
        "Let's visualize the distribution for **nDCG@10**:"
      ]
    },
    {
      "cell_type": "code",
      "execution_count": null,
      "id": "27859bf6",
      "metadata": {
        "execution": {
          "iopub.execute_input": "2025-08-27T16:11:01.130987Z",
          "iopub.status.busy": "2025-08-27T16:11:01.130418Z",
          "iopub.status.idle": "2025-08-27T16:11:01.747553Z",
          "shell.execute_reply": "2025-08-27T16:11:01.746645Z"
        },
        "id": "27859bf6",
        "outputId": "ae6ac8fc-81bb-4415-ad62-c2ece1cee959",
        "papermill": {
          "duration": 0.683483,
          "end_time": "2025-08-27T16:11:01.749526",
          "exception": false,
          "start_time": "2025-08-27T16:11:01.066043",
          "status": "completed"
        },
        "tags": []
      },
      "outputs": [
        {
          "data": {
            "image/png": "[encoded data removed]",
            "text/plain": [
              "<Figure size 1600x600 with 2 Axes>"
            ]
          },
          "metadata": {},
          "output_type": "display_data"
        }
      ],
      "source": [
        "if 'per_query_ours' in locals() and 'per_query_pyterrier' in locals():\n",
        "    metric_to_plot = str(nDCG@10)\n",
        "\n",
        "    # Filter the dataframes for the chosen metric\n",
        "    df_ours_metric = per_query_ours[per_query_ours['Measure'] == metric_to_plot].copy()\n",
        "    df_pyterrier_metric = per_query_pyterrier[per_query_pyterrier['Measure'] == metric_to_plot].copy()\n",
        "\n",
        "    # Add a 'System' column to identify the source\n",
        "    df_ours_metric['System'] = our_best_run_name\n",
        "    df_pyterrier_metric['System'] = baseline_run_name\n",
        "\n",
        "    # Concatenate the dataframes for easy plotting with seaborn\n",
        "    plot_df = pd.concat([df_ours_metric, df_pyterrier_metric])\n",
        "\n",
        "    # Create the plots\n",
        "    fig, axes = plt.subplots(1, 2, figsize=(16, 6))\n",
        "    sns.set_theme(style=\"whitegrid\")\n",
        "\n",
        "    # Boxplot\n",
        "    sns.boxplot(x='System', y='Value', data=plot_df, ax=axes[0])\n",
        "    axes[0].set_title(f'Boxplot of {metric_to_plot} Scores')\n",
        "    axes[0].set_xlabel('System')\n",
        "    axes[0].set_ylabel(metric_to_plot)\n",
        "\n",
        "    # Violin plot\n",
        "    sns.violinplot(x='System', y='Value', data=plot_df, ax=axes[1])\n",
        "    axes[1].set_title(f'Violin Plot of {metric_to_plot} Scores')\n",
        "    axes[1].set_xlabel('System')\n",
        "    axes[1].set_ylabel(metric_to_plot)\n",
        "\n",
        "    plt.suptitle(f'Per-Query Performance Distribution Comparison ({metric_to_plot})')\n",
        "    plt.tight_layout(rect=[0, 0, 1, 0.96])\n",
        "    plt.show()\n",
        "else:\n",
        "    print(\"Could not generate plots: per-query data is missing.\")"
      ]
    },
    {
      "cell_type": "markdown",
      "id": "6e743bcf",
      "metadata": {
        "id": "6e743bcf",
        "papermill": {
          "duration": 0.065314,
          "end_time": "2025-08-27T16:11:01.883560",
          "exception": false,
          "start_time": "2025-08-27T16:11:01.818246",
          "status": "completed"
        },
        "tags": []
      },
      "source": [
        "**Analysis of Visualisation**:\n",
        "\n",
        "The plots visually confirm the results of the Wilcoxon test. The distributions of nDCG@10 scores for both our custom system and PyTerrier are nearly identical. The medians (the central line in the boxplots) are at the same level, and the shapes of the distributions in the violin plots are very similar. This provides strong visual evidence that, on a query-by-query basis, the two systems perform comparably, reinforcing the conclusion that there is no statistically significant difference between them."
      ]
    },
    {
      "cell_type": "markdown",
      "id": "bcc16e38",
      "metadata": {
        "id": "bcc16e38",
        "papermill": {
          "duration": 0.064881,
          "end_time": "2025-08-27T16:11:02.013260",
          "exception": false,
          "start_time": "2025-08-27T16:11:01.948379",
          "status": "completed"
        },
        "tags": []
      },
      "source": [
        "# 5. Conclusion\n",
        "\n",
        "This project successfully demonstrated the implementation of an end-to-end information retrieval system, covering the entire pipeline from text preprocessing and index construction through to query processing and evaluation.\n",
        "\n",
        "The key finding was that our custom BM25 implementation achieved retrieval effectiveness statistically indistinguishable from the PyTerrier baseline, validating the correctness of our approach. While PyTerrier was significantly faster, our primary goal was the educational exercise of building a full IR system from first principles.\n",
        "\n",
        "Of course, there are many improvements an IR system would benefit from, like parameter tuning and query expansion, to name a few. A production system would also need proper user interfaces, scalability considerations, performance monitoring, and regular model updates based on user feedback."
      ]
    }
  ],
  "metadata": {
    "colab": {
      "include_colab_link": true,
      "provenance": [],
      "toc_visible": true
    },
    "kaggle": {
      "accelerator": "none",
      "dataSources": [],
      "isGpuEnabled": false,
      "isInternetEnabled": true,
      "language": "python",
      "sourceType": "notebook"
    },
    "kernelspec": {
      "display_name": "Python 3",
      "language": "python",
      "name": "python3"
    },
    "language_info": {
      "codemirror_mode": {
        "name": "ipython",
        "version": 3
      },
      "file_extension": ".py",
      "mimetype": "text/x-python",
      "name": "python",
      "nbconvert_exporter": "python",
      "pygments_lexer": "ipython3",
      "version": "3.11.13"
    },
    "papermill": {
      "default_parameters": {},
      "duration": 1764.849908,
      "end_time": "2025-08-27T16:11:05.905422",
      "environment_variables": {},
      "exception": null,
      "input_path": "__notebook__.ipynb",
      "output_path": "__notebook__.ipynb",
      "parameters": {},
      "start_time": "2025-08-27T15:41:41.055514",
      "version": "2.6.0"
    }
  },
  "nbformat": 4,
  "nbformat_minor": 5
}
